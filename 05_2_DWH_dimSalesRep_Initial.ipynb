{
 "cells": [
  {
   "cell_type": "markdown",
   "source": [
    "### Config stuff"
   ],
   "metadata": {
    "collapsed": false
   }
  },
  {
   "cell_type": "code",
   "execution_count": 1,
   "outputs": [
    {
     "name": "stdout",
     "output_type": "stream",
     "text": [
      "ALLUSERSPROFILE: C:\\ProgramData\n",
      "APPDATA: C:\\Users\\overvelj\\AppData\\Roaming\n",
      "COMMONPROGRAMFILES: C:\\Program Files\\Common Files\n",
      "COMMONPROGRAMFILES(X86): C:\\Program Files (x86)\\Common Files\n",
      "COMMONPROGRAMW6432: C:\\Program Files\\Common Files\n",
      "COMPUTERNAME: AKDGPORT11191\n",
      "COMSPEC: C:\\WINDOWS\\system32\\cmd.exe\n",
      "DRIVERDATA: C:\\Windows\\System32\\Drivers\\DriverData\n",
      "EFC_11424: 0\n",
      "FPS_BROWSER_APP_PROFILE_STRING: Internet Explorer\n",
      "FPS_BROWSER_USER_PROFILE_STRING: Default\n",
      "HOMEDRIVE: C:\n",
      "HOMEPATH: \\Users\\overvelj\n",
      "IDEA_INITIAL_DIRECTORY: C:\\WINDOWS\\system32\n",
      "JAVA_HOME: C:\\Program Files\\Java\\jdk-11\\\n",
      "LANG: en_US.UTF-8\n",
      "LANGUAGE: \n",
      "LC_ALL: en_US.UTF-8\n",
      "LOCALAPPDATA: C:\\Users\\overvelj\\AppData\\Local\n",
      "LOGONSERVER: \\\\CDCDCADM02\n",
      "NUMBER_OF_PROCESSORS: 8\n",
      "ONEDRIVE: C:\\Users\\overvelj\\OneDrive - Karel de Grote Hogeschool\n",
      "ONEDRIVECOMMERCIAL: C:\\Users\\overvelj\\OneDrive - Karel de Grote Hogeschool\n",
      "OS: Windows_NT\n",
      "PATH: C:\\DevApps\\311SparkVENV\\Scripts;C:\\Program Files\\Common Files\\Oracle\\Java\\javapath;C:\\Program Files (x86)\\Common Files\\Oracle\\Java\\javapath;C:\\Users\\overvelj\\AppData\\Local\\Programs\\Python\\Python311;C:\\Program Files\\Common Files\\Oracle\\Java\\javapathREMOVE;C:\\Program Files (x86)\\Common Files\\Oracle\\Java\\javapathREMOVE;C:\\WINDOWS\\system32;C:\\WINDOWS;C:\\WINDOWS\\System32\\Wbem;C:\\WINDOWS\\System32\\WindowsPowerShell\\v1.0\\;C:\\WINDOWS\\System32\\OpenSSH\\;C:\\Program Files (x86)\\Microsoft SQL Server\\150\\DTS\\Binn\\;C:\\Program Files\\dotnet\\;C:\\Program Files\\Graphviz\\bin;C:\\Program Files\\mongosh\\;C:\\Program Files\\MongoDB\\Server\\5.0\\bin;C:\\DevApps\\VENV309_DS2\\\\Scripts;C:\\Program Files\\Microsoft SQL Server\\Client SDK\\ODBC\\170\\Tools\\Binn\\;C:\\DevApps\\gradle-7.6\\bin;C:\\Program Files\\Docker\\Docker\\resources\\bin;C:\\Program Files\\Amazon\\AWSCLIV2\\;C:\\Program Files\\nodejs\\;C:\\Program Files\\Git\\cmd;C:\\Users\\overvelj\\AppData\\Local\\Programs\\Python\\Python312\\Scripts\\;C:\\Users\\overvelj\\AppData\\Local\\Programs\\Python\\Python312\\;C:\\Users\\overvelj\\AppData\\Local\\Programs\\Python\\Launcher\\;C:\\Users\\overvelj\\AppData\\Local\\Programs\\Python\\Python310_9\\Scripts\\;C:\\Users\\overvelj\\AppData\\Local\\Programs\\Python\\Python310_9\\;C:\\Users\\overvelj\\AppData\\Local\\Microsoft\\WindowsApps;C:\\Users\\overvelj\\.dotnet\\tools;C:\\Users\\overvelj\\AppData\\Local\\Programs\\Microsoft VS Code\\bin;C:\\Users\\overvelj\\AppData\\Local\\Programs\\Git\\cmd;C:\\Program Files\\mongosh\\;C:\\Users\\overvelj\\AppData\\Local\\JetBrains\\Toolbox\\scripts;C:\\Users\\overvelj\\AppData\\Roaming\\npm;C:\\Users\\overvelj\\AppData\\Local\\Microsoft\\WindowsApps;;C:\\DevApps\\bigdatatools\\spark-3.5.2-bin-hadoop3\\bin;C:\\DevApps\\bigdatatools\\hadoop-3.4.0-win10-x64\\bin;C:\\Program Files\\Java\\jdk-11\\bin\n",
      "PATHEXT: .COM;.EXE;.BAT;.CMD;.VBS;.VBE;.JS;.JSE;.WSF;.WSH;.MSC;.PY;.PYW\n",
      "PROCESSOR_ARCHITECTURE: AMD64\n",
      "PROCESSOR_IDENTIFIER: Intel64 Family 6 Model 142 Stepping 12, GenuineIntel\n",
      "PROCESSOR_LEVEL: 6\n",
      "PROCESSOR_REVISION: 8e0c\n",
      "PROGRAMDATA: C:\\ProgramData\n",
      "PROGRAMFILES: C:\\Program Files\n",
      "PROGRAMFILES(X86): C:\\Program Files (x86)\n",
      "PROGRAMW6432: C:\\Program Files\n",
      "PROMPT: (311SparkVENV) $P$G\n",
      "PSDISTRICT_BOOTIMAGEVERSION: CCM002C6\n",
      "PSDISTRICT_DEPLOYMENTID: CCM00B0B\n",
      "PSDISTRICT_INSTALLATIONDATE: 20200814-15:15:29\n",
      "PSDISTRICT_INSTALLATIONMETHOD: PXE\n",
      "PSDISTRICT_OFFICEINSTALL: clicktorun2016\n",
      "PSDISTRICT_SITECODE: CCM\n",
      "PSDISTRICT_TAAK: domein\n",
      "PSDISTRICT_TATTOOSCRIPTVERSION: 1.4.3\n",
      "PSDISTRICT_TSID: CCM00B0B\n",
      "PSDISTRICT_TSNAME: KdG_W10_1909_Prod_200612.02\n",
      "PSDISTRICT_UNATTEND: win10ent64-nl-BE-Admin.xml\n",
      "PSMODULEPATH: C:\\Program Files\\WindowsPowerShell\\Modules;C:\\WINDOWS\\system32\\WindowsPowerShell\\v1.0\\Modules\n",
      "PUBLIC: C:\\Users\\Public\n",
      "PYTHONPATH: C:\\DevProjects\\Databricks\n",
      "SESSIONNAME: Console\n",
      "SYSTEMDRIVE: C:\n",
      "SYSTEMROOT: C:\\WINDOWS\n",
      "TEMP: C:\\Users\\overvelj\\AppData\\Local\\Temp\n",
      "TMP: C:\\Users\\overvelj\\AppData\\Local\\Temp\n",
      "UATDATA: C:\\WINDOWS\\CCM\\UATData\\D9F8C395-CAB8-491d-B8AC-179A1FE1BE77\n",
      "USERDNSDOMAIN: ADMIN.KDG.BE\n",
      "USERDOMAIN: ADMIN\n",
      "USERDOMAIN_ROAMINGPROFILE: ADMIN\n",
      "USERNAME: overvelj\n",
      "USERPROFILE: C:\\Users\\overvelj\n",
      "VIRTUAL_ENV: C:\\DevApps\\311SparkVENV\n",
      "WINDIR: C:\\WINDOWS\n",
      "ZES_ENABLE_SYSMAN: 1\n",
      "_OLD_VIRTUAL_PATH: C:\\Program Files\\Common Files\\Oracle\\Java\\javapath;C:\\Program Files (x86)\\Common Files\\Oracle\\Java\\javapath;C:\\Users\\overvelj\\AppData\\Local\\Programs\\Python\\Python311;C:\\Program Files\\Common Files\\Oracle\\Java\\javapathREMOVE;C:\\Program Files (x86)\\Common Files\\Oracle\\Java\\javapathREMOVE;C:\\WINDOWS\\system32;C:\\WINDOWS;C:\\WINDOWS\\System32\\Wbem;C:\\WINDOWS\\System32\\WindowsPowerShell\\v1.0\\;C:\\WINDOWS\\System32\\OpenSSH\\;C:\\Program Files (x86)\\Microsoft SQL Server\\150\\DTS\\Binn\\;C:\\Program Files\\dotnet\\;C:\\Program Files\\Graphviz\\bin;C:\\Program Files\\mongosh\\;C:\\Program Files\\MongoDB\\Server\\5.0\\bin;C:\\DevApps\\VENV309_DS2\\\\Scripts;C:\\Program Files\\Microsoft SQL Server\\Client SDK\\ODBC\\170\\Tools\\Binn\\;C:\\DevApps\\gradle-7.6\\bin;C:\\Program Files\\Docker\\Docker\\resources\\bin;C:\\Program Files\\Amazon\\AWSCLIV2\\;C:\\Program Files\\nodejs\\;C:\\Program Files\\Git\\cmd;C:\\Users\\overvelj\\AppData\\Local\\Programs\\Python\\Python312\\Scripts\\;C:\\Users\\overvelj\\AppData\\Local\\Programs\\Python\\Python312\\;C:\\Users\\overvelj\\AppData\\Local\\Programs\\Python\\Launcher\\;C:\\Users\\overvelj\\AppData\\Local\\Programs\\Python\\Python310_9\\Scripts\\;C:\\Users\\overvelj\\AppData\\Local\\Programs\\Python\\Python310_9\\;C:\\Users\\overvelj\\AppData\\Local\\Microsoft\\WindowsApps;C:\\Users\\overvelj\\.dotnet\\tools;C:\\Users\\overvelj\\AppData\\Local\\Programs\\Microsoft VS Code\\bin;C:\\Users\\overvelj\\AppData\\Local\\Programs\\Git\\cmd;C:\\Program Files\\mongosh\\;C:\\Users\\overvelj\\AppData\\Local\\JetBrains\\Toolbox\\scripts;C:\\Users\\overvelj\\AppData\\Roaming\\npm;C:\\Users\\overvelj\\AppData\\Local\\Microsoft\\WindowsApps;\n",
      "_OLD_VIRTUAL_PROMPT: $P$G\n",
      "JPY_SESSION_NAME: 05_2_DWH_dimSalesRep_Initial.ipynb\n",
      "JPY_INTERRUPT_EVENT: 2688\n",
      "IPY_INTERRUPT_EVENT: 2688\n",
      "JPY_PARENT_PID: 2692\n",
      "PYDEVD_USE_FRAME_EVAL: NO\n",
      "TERM: xterm-color\n",
      "CLICOLOR: 1\n",
      "FORCE_COLOR: 1\n",
      "CLICOLOR_FORCE: 1\n",
      "PAGER: cat\n",
      "GIT_PAGER: cat\n",
      "MPLBACKEND: module://matplotlib_inline.backend_inline\n",
      "PYSPARK_PYTHON: python\n",
      "SPARK_HOME: C:\\DevApps\\bigdatatools\\spark-3.5.2-bin-hadoop3\n",
      "HADOOP_HOME: C:\\DevApps\\bigdatatools\\hadoop-3.4.0-win10-x64\n",
      "PYSPARK_HADOOP_VERSION: 3\n"
     ]
    }
   ],
   "source": [
    "import random\n",
    "import pyspark\n",
    "from pyspark.sql import SparkSession, functions\n",
    "import ConnectionConfig as cc\n",
    "from pyspark.sql.functions import *\n",
    "cc.setupEnvironment()\n",
    "cc.listEnvironment()"
   ],
   "metadata": {
    "collapsed": false,
    "ExecuteTime": {
     "end_time": "2024-09-10T09:44:44.357198600Z",
     "start_time": "2024-09-10T09:44:43.980490200Z"
    }
   }
  },
  {
   "cell_type": "code",
   "execution_count": 2,
   "outputs": [
    {
     "data": {
      "text/plain": "<pyspark.sql.session.SparkSession at 0x15c5a1d0350>",
      "text/html": "\n            <div>\n                <p><b>SparkSession - in-memory</b></p>\n                \n        <div>\n            <p><b>SparkContext</b></p>\n\n            <p><a href=\"http://AKDGPORT11191.mshome.net:4042\">Spark UI</a></p>\n\n            <dl>\n              <dt>Version</dt>\n                <dd><code>v3.5.2</code></dd>\n              <dt>Master</dt>\n                <dd><code>local[*]</code></dd>\n              <dt>AppName</dt>\n                <dd><code>dimSalesRepInit</code></dd>\n            </dl>\n        </div>\n        \n            </div>\n        "
     },
     "execution_count": 2,
     "metadata": {},
     "output_type": "execute_result"
    }
   ],
   "source": [
    "spark = cc.startLocalCluster(\"dimSalesRepInit\")\n",
    "spark.getActiveSession()\n"
   ],
   "metadata": {
    "collapsed": false,
    "ExecuteTime": {
     "end_time": "2024-09-10T09:45:16.221312200Z",
     "start_time": "2024-09-10T09:44:44.338950300Z"
    }
   }
  },
  {
   "cell_type": "markdown",
   "source": [
    "# Initial load\n",
    "We will create a slowly changing dimension type 2 called dimSalesRep based on a sourceTable in our operational database called dbo.salesrep. SCD2  tables demand extra care and  because we will store hirstorical values of the dimension with the help of ranges.\n",
    "This notebook will create the table and fill it with the initial data. A second notebook will be used for increments of new and changed data.\n",
    "\n",
    "This is an example of the expected output (salesRepSK is different\n",
    "```\n",
    "+----------+-------------+-------------+-----------+-------------------+-------------------+--------------------+-------+\n",
    "|salesRepID|         name|       office| salesRepSK|          scd_start|            scd_end|                 md5|current|\n",
    "+----------+-------------+-------------+-----------+-------------------+-------------------+--------------------+-------+\n",
    "|a46add1...|      Z. Jane|     New York|          0|1990-01-01 00:00:00|2100-12-12 00:00:00|303db545462092a92...|   true|\n",
    "|s1fedf1...|   P. Chapman|       Berlin|          1|1990-01-01 00:00:00|2100-12-12 00:00:00|14b094c31bf9e4149...|   true|\n",
    "|d5e6f77...|     T. Crane|     New York|          2|1990-01-01 00:00:00|2100-12-12 00:00:00|6c062f95defda9dc3...|   true|\n",
    "```\n",
    "\n",
    "\n"
   ],
   "metadata": {
    "collapsed": false
   }
  },
  {
   "cell_type": "code",
   "execution_count": 3,
   "outputs": [
    {
     "name": "stdout",
     "output_type": "stream",
     "text": [
      "root\n",
      " |-- salesRepSK: string (nullable = false)\n",
      " |-- salesrepid: integer (nullable = true)\n",
      " |-- name: string (nullable = true)\n",
      " |-- office: string (nullable = true)\n",
      " |-- scd_start: timestamp (nullable = true)\n",
      " |-- scd_end: timestamp (nullable = true)\n",
      " |-- md5: string (nullable = true)\n",
      " |-- current: boolean (nullable = false)\n",
      "+--------------------+----------+-------------+-------------+-------------------+-------------------+--------------------+-------+\n",
      "|          salesRepSK|salesrepid|         name|       office|          scd_start|            scd_end|                 md5|current|\n",
      "+--------------------+----------+-------------+-------------+-------------------+-------------------+--------------------+-------+\n",
      "|b65df3d9-20dc-42d...|         1|      R. Zane|       Berlin|1999-01-01 00:00:00|2100-12-12 00:00:00|1f8cbbc272a33dcc1...|   true|\n",
      "|ec9c8bb4-e949-413...|         2|   P. Chapman|       Berlin|1999-01-01 00:00:00|2100-12-12 00:00:00|14b094c31bf9e4149...|   true|\n",
      "|957c6759-6c7b-4f3...|         4|    R. Geller|     New York|1999-01-01 00:00:00|2100-12-12 00:00:00|6212c0ce01f144d66...|   true|\n",
      "|51ec08d2-9b42-447...|         3|     F. Crane|       Berlin|1999-01-01 00:00:00|2100-12-12 00:00:00|382ec0d8b8cd28ce4...|   true|\n",
      "|cd1beed9-a843-4f8...|         5|     T. Mosby|       Berlin|1999-01-01 00:00:00|2100-12-12 00:00:00|947579dec8084039e...|   true|\n",
      "|6b5219a8-2533-4e6...|         6|   H. Simpson|       Berlin|1999-01-01 00:00:00|2100-12-12 00:00:00|d636d1b0685650b34...|   true|\n",
      "|89afbf6b-2123-485...|         7|   B. Stinson|San Fransisco|1999-01-01 00:00:00|2100-12-12 00:00:00|e726b2d8dc0cf9a6f...|   true|\n",
      "|634a1491-0fd5-4fb...|         8|L. Hofstadter|     Brussels|1999-01-01 00:00:00|2100-12-12 00:00:00|a2bbe52f8274b0f08...|   true|\n",
      "|7de6c74b-f37e-4e9...|         9|    S. Cooper|     Brussels|1999-01-01 00:00:00|2100-12-12 00:00:00|d85c73c9d03df0002...|   true|\n",
      "|751782da-b175-450...|        10| F. Underwood|     Brussels|1999-01-01 00:00:00|2100-12-12 00:00:00|44cd1a6d596b05688...|   true|\n",
      "|579329fb-52f0-4b1...|        11|     W. White|     New York|1999-01-01 00:00:00|2100-12-12 00:00:00|f9ea69ce2aa4482b4...|   true|\n",
      "|9c488723-3bc3-422...|        12| T. Lannister|     New York|1999-01-01 00:00:00|2100-12-12 00:00:00|3259a471f9816d7c3...|   true|\n",
      "|ddb5d0fc-0261-47c...|        13|      M. Ross|       London|1999-01-01 00:00:00|2100-12-12 00:00:00|d0faf94c1bbe2d4a7...|   true|\n",
      "+--------------------+----------+-------------+-------------+-------------------+-------------------+--------------------+-------+\n"
     ]
    }
   ],
   "source": [
    "cc.set_connectionProfile(\"tutorial_op\")\n",
    "\n",
    "df_operational_sales_rep = spark.read \\\n",
    "    .format(\"jdbc\") \\\n",
    "    .option(\"driver\" , cc.get_Property(\"driver\")) \\\n",
    "    .option(\"url\", cc.create_jdbc()) \\\n",
    "    .option(\"dbtable\", \"salesrep\") \\\n",
    "    .option(\"user\", cc.get_Property(\"username\")) \\\n",
    "    .option(\"password\", cc.get_Property(\"password\")) \\\n",
    "    .option(\"partitionColumn\", \"salesRepID\") \\\n",
    "    .option(\"numPartitions\", 4) \\\n",
    "    .option(\"lowerBound\", 0) \\\n",
    "    .option(\"upperBound\", 20) \\\n",
    "    .load()\n",
    "\n",
    "#Method 1 : Use the DataFrame API\n",
    "#df_dim_sales_rep = df_sales_rep.withColumn(\"salesRepSK\", expr(\"uuid()\")) \\\n",
    "#    .withColumn(\"scd_start\", lit(\"1990-01-01\").cast(\"timestamp\")) \\\n",
    "#    .withColumn(\"scd_end\", lit(\"2100-12-12\").cast(\"timestamp\")) \\\n",
    "#    .withColumn(\"md5\", md5(concat( col('name'), col('office')))) \\\n",
    "#    .withColumn(\"current\", lit(True))\n",
    "\n",
    "#Method 2 : Use SQL\n",
    "df_operational_sales_rep.createOrReplaceTempView(\"dimSalesRep\")\n",
    "df_dim_sales_rep = spark.sql(\"select uuid() as salesRepSK, *, to_timestamp('1999-01-01','yyyy-MM-dd') as scd_start, to_timestamp('2100-12-12','yyyy-MM-dd') as scd_end, md5(concat( name, office)) as md5, True as current  from dimSalesRep\")\n",
    "\n",
    "df_dim_sales_rep.printSchema()\n",
    "df_dim_sales_rep.show()\n",
    "df_dim_sales_rep.write.format(\"delta\").mode(\"overwrite\").saveAsTable(\"dimSalesRep\")\n",
    "\n",
    "#spark.sql(\"ALTER TABLE dimSalesRep  ADD columns (salesRepSK long GENERATED ALWAYS AS IDENTITY (START WITH 0 INCREMENT BY 1)\")"
   ],
   "metadata": {
    "collapsed": false,
    "ExecuteTime": {
     "end_time": "2024-09-10T09:45:38.860954600Z",
     "start_time": "2024-09-10T09:45:16.204296600Z"
    }
   }
  },
  {
   "cell_type": "markdown",
   "source": [
    "* The function lit() is used when you want a fixed column value for every row. In this case scd_start, scd_end and current.\n",
    "* The function md5() performs a md5-hash function on the preferred columns. This is needed to detect scd2 changes. When one of the included columns changes, the md5-hash will change. Include all SCD2 columns in the md5-hash function."
   ],
   "metadata": {
    "collapsed": false
   }
  },
  {
   "cell_type": "markdown",
   "source": [
    "## Delete the spark session"
   ],
   "metadata": {
    "collapsed": false
   }
  },
  {
   "cell_type": "code",
   "execution_count": 4,
   "outputs": [],
   "source": [
    "spark.stop()"
   ],
   "metadata": {
    "collapsed": false,
    "ExecuteTime": {
     "end_time": "2024-09-10T09:45:39.290925200Z",
     "start_time": "2024-09-10T09:45:38.865320700Z"
    }
   }
  },
  {
   "cell_type": "code",
   "execution_count": 4,
   "outputs": [],
   "source": [],
   "metadata": {
    "collapsed": false,
    "ExecuteTime": {
     "end_time": "2024-09-10T09:45:39.318321Z",
     "start_time": "2024-09-10T09:45:39.298552300Z"
    }
   }
  }
 ],
 "metadata": {
  "kernelspec": {
   "display_name": "Python 3",
   "language": "python",
   "name": "python3"
  },
  "language_info": {
   "codemirror_mode": {
    "name": "ipython",
    "version": 2
   },
   "file_extension": ".py",
   "mimetype": "text/x-python",
   "name": "python",
   "nbconvert_exporter": "python",
   "pygments_lexer": "ipython2",
   "version": "2.7.6"
  }
 },
 "nbformat": 4,
 "nbformat_minor": 0
}
