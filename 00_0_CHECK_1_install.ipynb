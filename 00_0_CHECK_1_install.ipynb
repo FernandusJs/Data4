{
 "cells": [
  {
   "cell_type": "markdown",
   "source": [
    "## Installation Check\n",
    "You should be able to run all cells to advance with the course.\n",
    "Every cell has some troubleshooting guidelines included.\n",
    "\n",
    "### Step 1 : Importing needed modules\n",
    "Possible error solutions:\n",
    "1. Check if the needed packages are installed correctly (View > Tool windows > Python Packages). If not, run the requirements.txt again.\n",
    "2. If you applied some changes to the environment during this session, restart the PyCharme IDE."
   ],
   "metadata": {
    "collapsed": false
   }
  },
  {
   "cell_type": "code",
   "metadata": {
    "collapsed": true,
    "jupyter": {
     "is_executing": true
    }
   },
   "source": [
    "from pyspark.sql import SparkSession\n",
    "from delta import configure_spark_with_delta_pip"
   ],
   "outputs": [],
   "execution_count": null
  },
  {
   "cell_type": "markdown",
   "source": [
    "### Step 2 : Setting up environment variables\n",
    "To avoid setting up the environment variables in your os, this code will set the correct variables. Make sure you adjusted ConnectionConfig.py with the correct directories.\n",
    "Look closely at the listed variables to make sure everything is set correctly. PATH, HADOOP_HOME, JAVA_HOME and SPARK_HOME should be set correctly.\n"
   ],
   "metadata": {
    "collapsed": false
   }
  },
  {
   "cell_type": "code",
   "source": [
    "import ConnectionConfig as cc\n",
    "cc.setupEnvironment()\n",
    "cc.listEnvironment()"
   ],
   "metadata": {
    "collapsed": false,
    "ExecuteTime": {
     "end_time": "2025-05-17T12:31:14.184822100Z",
     "start_time": "2025-03-13T13:50:15.597932Z"
    }
   },
   "outputs": [
    {
     "name": "stdout",
     "output_type": "stream",
     "text": [
      "ACSETUPSVCPORT: 23210\n",
      "ACSVCPORT: 17532\n",
      "ALLUSERSPROFILE: C:\\ProgramData\n",
      "APPDATA: C:\\Users\\NandB\\AppData\\Roaming\n",
      "ASL.LOG: Destination=file\n",
      "COMMONPROGRAMFILES: C:\\Program Files\\Common Files\n",
      "COMMONPROGRAMFILES(X86): C:\\Program Files (x86)\\Common Files\n",
      "COMMONPROGRAMW6432: C:\\Program Files\\Common Files\n",
      "COMPUTERNAME: LT01-NB\n",
      "COMSPEC: C:\\WINDOWS\\system32\\cmd.exe\n",
      "DRIVERDATA: C:\\Windows\\System32\\Drivers\\DriverData\n",
      "EFC_2512: 1\n",
      "ENABLELOG: INFO\n",
      "FPS_BROWSER_APP_PROFILE_STRING: Internet Explorer\n",
      "FPS_BROWSER_USER_PROFILE_STRING: Default\n",
      "HOMEDRIVE: C:\n",
      "HOMEPATH: \\Users\\NandB\n",
      "IPY_INTERRUPT_EVENT: 732\n",
      "JPY_INTERRUPT_EVENT: 732\n",
      "JPY_PARENT_PID: 448\n",
      "JPY_SESSION_NAME: sparkdelta/00_0_CHECK_1_install.ipynb\n",
      "LANG: en_US.UTF-8\n",
      "LANGUAGE: \n",
      "LC_ALL: en_US.UTF-8\n",
      "LOCALAPPDATA: C:\\Users\\NandB\\AppData\\Local\n",
      "LOGONSERVER: \\\\LT01-NB\n",
      "NUMBER_OF_PROCESSORS: 16\n",
      "ONEDRIVE: C:\\Users\\NandB\\OneDrive - KdG\n",
      "OS: Windows_NT\n",
      "PATH: C:\\ACS202\\Data4\\sparkdelta\\.venv\\Scripts;C:\\Program Files\\Common Files\\Oracle\\Java\\javapath;C:\\Program Files (x86)\\Common Files\\Oracle\\Java\\javapath;C:\\WINDOWS\\system32;C:\\WINDOWS;C:\\WINDOWS\\System32\\Wbem;C:\\WINDOWS\\System32\\WindowsPowerShell\\v1.0\\;C:\\WINDOWS\\System32\\OpenSSH\\;C:\\Program Files\\Microsoft VS Code\\bin;C:\\Program Files\\PuTTY\\;C:\\Program Files\\nodejs\\;C:\\Program Files\\NVIDIA Corporation\\NVIDIA NvDLISR;C:\\Program Files (x86)\\NVIDIA Corporation\\PhysX\\Common;C:\\xampp\\php;C:\\composer;C:\\Program Files\\dotnet\\;C:\\Program Files\\Git\\cmd;C:\\Program Files (x86)\\Gpg4win\\..\\GnuPG\\bin;C:\\Python311\\Scripts\\;C:\\Python311\\;C:\\Python313\\Scripts\\;C:\\Python313\\;C:\\Users\\NandB\\.cargo\\bin;C:\\Python312\\Scripts\\;C:\\Python312\\;C:\\Users\\NandB\\AppData\\Local\\Microsoft\\WindowsApps;C:\\Users\\NandB\\AppData\\Local\\JetBrains\\Toolbox\\scripts;C:\\Users\\NandB\\AppData\\Roaming\\npm;C:\\Users\\NandB\\AppData\\Roaming\\Composer\\vendor\\bin;C:\\Users\\NandB\\.dotnet\\tools;C:\\Python311\\python.exe;;C:\\DevApps\\bigdatatools\\spark-3.5.2-bin-hadoop3\\bin;C:\\DevApps\\bigdatatools\\hadoop-3.4.0-win10-x64\\bin;C:\\Program Files\\Java\\jdk-17\\bin\n",
      "PATHEXT: .COM;.EXE;.BAT;.CMD;.VBS;.VBE;.JS;.JSE;.WSF;.WSH;.MSC\n",
      "PROCESSOR_ARCHITECTURE: AMD64\n",
      "PROCESSOR_IDENTIFIER: AMD64 Family 25 Model 68 Stepping 1, AuthenticAMD\n",
      "PROCESSOR_LEVEL: 25\n",
      "PROCESSOR_REVISION: 4401\n",
      "PROGRAMDATA: C:\\ProgramData\n",
      "PROGRAMFILES: C:\\Program Files\n",
      "PROGRAMFILES(X86): C:\\Program Files (x86)\n",
      "PROGRAMW6432: C:\\Program Files\n",
      "PROMPT: (.venv) $P$G\n",
      "PSMODULEPATH: C:\\Program Files\\WindowsPowerShell\\Modules;C:\\WINDOWS\\system32\\WindowsPowerShell\\v1.0\\Modules\n",
      "PT8HOME: C:\\Program Files\\Cisco Packet Tracer 8.2.1\n",
      "PUBLIC: C:\\Users\\Public\n",
      "PYTHONPATH: C:\\ACS202\\Data4\n",
      "RLSSVCPORT: 22112\n",
      "SESSIONNAME: Console\n",
      "SYSTEMDRIVE: C:\n",
      "SYSTEMROOT: C:\\WINDOWS\n",
      "TEMP: C:\\Users\\NandB\\AppData\\Local\\Temp\n",
      "TMP: C:\\Users\\NandB\\AppData\\Local\\Temp\n",
      "USERDOMAIN: LT01-NB\n",
      "USERDOMAIN_ROAMINGPROFILE: LT01-NB\n",
      "USERNAME: NandB\n",
      "USERPROFILE: C:\\Users\\NandB\n",
      "VIRTUAL_ENV: C:\\ACS202\\Data4\\sparkdelta\\.venv\n",
      "WINDIR: C:\\WINDOWS\n",
      "_OLD_VIRTUAL_PATH: C:\\Program Files\\Common Files\\Oracle\\Java\\javapath;C:\\Program Files (x86)\\Common Files\\Oracle\\Java\\javapath;C:\\WINDOWS\\system32;C:\\WINDOWS;C:\\WINDOWS\\System32\\Wbem;C:\\WINDOWS\\System32\\WindowsPowerShell\\v1.0\\;C:\\WINDOWS\\System32\\OpenSSH\\;C:\\Program Files\\Microsoft VS Code\\bin;C:\\Program Files\\PuTTY\\;C:\\Program Files\\nodejs\\;C:\\Program Files\\NVIDIA Corporation\\NVIDIA NvDLISR;C:\\Program Files (x86)\\NVIDIA Corporation\\PhysX\\Common;C:\\xampp\\php;C:\\composer;C:\\Program Files\\dotnet\\;C:\\Program Files\\Git\\cmd;C:\\Program Files (x86)\\Gpg4win\\..\\GnuPG\\bin;C:\\Python311\\Scripts\\;C:\\Python311\\;C:\\Python313\\Scripts\\;C:\\Python313\\;C:\\Users\\NandB\\.cargo\\bin;C:\\Python312\\Scripts\\;C:\\Python312\\;C:\\Users\\NandB\\AppData\\Local\\Microsoft\\WindowsApps;C:\\Users\\NandB\\AppData\\Local\\JetBrains\\Toolbox\\scripts;C:\\Users\\NandB\\AppData\\Roaming\\npm;C:\\Users\\NandB\\AppData\\Roaming\\Composer\\vendor\\bin;C:\\Users\\NandB\\.dotnet\\tools;C:\\Python311\\python.exe;\n",
      "_OLD_VIRTUAL_PROMPT: $P$G\n",
      "PYDEVD_USE_FRAME_EVAL: NO\n",
      "TERM: xterm-color\n",
      "CLICOLOR: 1\n",
      "FORCE_COLOR: 1\n",
      "CLICOLOR_FORCE: 1\n",
      "PAGER: cat\n",
      "GIT_PAGER: cat\n",
      "MPLBACKEND: module://matplotlib_inline.backend_inline\n",
      "PYSPARK_PYTHON: python\n",
      "SPARK_HOME: C:\\DevApps\\bigdatatools\\spark-3.5.2-bin-hadoop3\n",
      "HADOOP_HOME: C:\\DevApps\\bigdatatools\\hadoop-3.4.0-win10-x64\n",
      "PYSPARK_HADOOP_VERSION: 3\n",
      "JAVA_HOME: C:\\Program Files\\Java\\jdk-17\\\n"
     ]
    }
   ],
   "execution_count": 2
  },
  {
   "cell_type": "markdown",
   "source": [
    "### Step 3 : Configuring the sparkSession\n",
    "Possible error solutions:\n",
    "1. Make sure the imports in step 1 succeeded."
   ],
   "metadata": {
    "collapsed": false
   }
  },
  {
   "cell_type": "code",
   "source": [
    "builder = SparkSession.builder \\\n",
    "    .appName(\"InstallCheck\") \\\n",
    "    .config(\"spark.sql.extensions\", \"io.delta.sql.DeltaSparkSessionExtension\") \\\n",
    "    .config(\"spark.sql.catalog.spark_catalog\", \"org.apache.spark.sql.delta.catalog.DeltaCatalog\") \\\n",
    "    .config(\"spark.sql.shuffle.partitions\", \"4\") \\\n",
    "    .master(\"local[*]\")\n",
    "\n",
    "builder = configure_spark_with_delta_pip(builder)\n",
    "\n",
    "\n"
   ],
   "metadata": {
    "collapsed": false,
    "ExecuteTime": {
     "end_time": "2025-05-17T12:31:14.189912500Z",
     "start_time": "2025-03-13T13:50:18.714195Z"
    }
   },
   "outputs": [],
   "execution_count": 3
  },
  {
   "cell_type": "markdown",
   "source": [
    "### Step 4  : Creating a local spark cluster\n",
    "This step starts the sparkSession. Because you are running a local cluster.\n",
    "If you already started a sparkSession with getOrCreate(), running this cell does not change the session. Restart the Jupyter server, and rerun all above cells again\n",
    "After running this step you will get the url (click on Spark UI) to the Spark server. Check if you can visit the URL\n",
    "\n",
    "Possible error solutions:\n",
    "\n",
    "1. Make sure the previous step was executed correctly\n",
    "2. Check your environment variables again with es.listEnvironment(). HADOOP_HOME, SPARK_HOME, JAVA_HOME and PATH have to be set correctly corresponding the instructions in README.MD. In most cases the error message will give you information on what went wrong.\n",
    "3. Read the error message. If you don't get a clear error message look at Jupyter console (View > Tool windows > Python Packages). The console will give information about the startup proces of the Spark-server\n",
    "4. In Windows, make sure your HADOOP_HOME has winutils.exe in the bin directory. If not see README.MD for clear instructions"
   ],
   "metadata": {
    "collapsed": false
   }
  },
  {
   "cell_type": "code",
   "source": "spark = builder.getOrCreate()",
   "metadata": {
    "collapsed": false,
    "ExecuteTime": {
     "end_time": "2025-05-17T12:31:14.190894600Z",
     "start_time": "2025-03-13T13:50:24.606107Z"
    }
   },
   "outputs": [],
   "execution_count": 4
  },
  {
   "cell_type": "code",
   "source": [
    "\n",
    "spark.getActiveSession()"
   ],
   "metadata": {
    "collapsed": false,
    "ExecuteTime": {
     "end_time": "2025-05-17T12:31:14.191913700Z",
     "start_time": "2025-03-13T13:50:40.374799Z"
    }
   },
   "outputs": [
    {
     "data": {
      "text/plain": [
       "<pyspark.sql.session.SparkSession at 0x2a861f44e90>"
      ],
      "text/html": [
       "\n",
       "            <div>\n",
       "                <p><b>SparkSession - in-memory</b></p>\n",
       "                \n",
       "        <div>\n",
       "            <p><b>SparkContext</b></p>\n",
       "\n",
       "            <p><a href=\"http://LT01-NB:4041\">Spark UI</a></p>\n",
       "\n",
       "            <dl>\n",
       "              <dt>Version</dt>\n",
       "                <dd><code>v3.5.2</code></dd>\n",
       "              <dt>Master</dt>\n",
       "                <dd><code>local[*]</code></dd>\n",
       "              <dt>AppName</dt>\n",
       "                <dd><code>InstallCheck</code></dd>\n",
       "            </dl>\n",
       "        </div>\n",
       "        \n",
       "            </div>\n",
       "        "
      ]
     },
     "execution_count": 5,
     "metadata": {},
     "output_type": "execute_result"
    }
   ],
   "execution_count": 5
  },
  {
   "cell_type": "markdown",
   "source": [
    "### Step 5  : Reading source into Spark DataFrame\n",
    "\n",
    "Possible error solutions:\n",
    "1. Make sure the file is present in the project at [file_location]"
   ],
   "metadata": {
    "collapsed": false
   }
  },
  {
   "cell_type": "code",
   "source": [
    "# File location and type\n",
    "file_location = \"./FileStore/tables/shakespeare.txt\"\n",
    "file_type = \"text\"\n",
    "\n",
    "# The applied options are for CSV files. For other file types, these will be ignored.\n",
    "df = spark.read.format(file_type)  \\\n",
    "  .load(file_location)\n",
    "df.show()\n",
    "df.describe()"
   ],
   "metadata": {
    "collapsed": false,
    "ExecuteTime": {
     "end_time": "2025-05-17T12:31:14.197899200Z",
     "start_time": "2025-03-13T13:50:45.340569Z"
    }
   },
   "outputs": [
    {
     "name": "stdout",
     "output_type": "stream",
     "text": [
      "+--------------------+\n",
      "|               value|\n",
      "+--------------------+\n",
      "|This is the 100th...|\n",
      "|is presented in c...|\n",
      "|Library of the Fu...|\n",
      "|often releases Et...|\n",
      "|                    |\n",
      "|         Shakespeare|\n",
      "|                    |\n",
      "|*This Etext has c...|\n",
      "|                    |\n",
      "|<<THIS ELECTRONIC...|\n",
      "|SHAKESPEARE IS CO...|\n",
      "|PROVIDED BY PROJE...|\n",
      "|WITH PERMISSION. ...|\n",
      "|DISTRIBUTED SO LO...|\n",
      "|PERSONAL USE ONLY...|\n",
      "|COMMERCIALLY.  PR...|\n",
      "|SERVICE THAT CHAR...|\n",
      "|                    |\n",
      "|*Project Gutenber...|\n",
      "|in the presentati...|\n",
      "+--------------------+\n",
      "only showing top 20 rows\n",
      "\n"
     ]
    },
    {
     "data": {
      "text/plain": [
       "DataFrame[summary: string, value: string]"
      ]
     },
     "execution_count": 6,
     "metadata": {},
     "output_type": "execute_result"
    }
   ],
   "execution_count": 6
  },
  {
   "cell_type": "markdown",
   "source": [
    "### Step 7  : Creating a view on the source and performing SQL on View\n",
    "This step should not pose any problem if the previous steps where successful.\n"
   ],
   "metadata": {
    "collapsed": false
   }
  },
  {
   "cell_type": "code",
   "source": [
    "df.createOrReplaceTempView('lines')\n",
    "words = spark.sql('select explode(split(value, \" \")) from lines')\n",
    "words.createOrReplaceTempView('words')\n",
    "lowerwords = spark.sql('select lower(trim(col)) as word, count(*) as amount from words where lower(trim(col)) <> \"\" group by lower(trim(col)) order by amount desc limit 20')\n",
    "lowerwords.show()\n"
   ],
   "metadata": {
    "collapsed": false,
    "ExecuteTime": {
     "end_time": "2025-05-17T12:31:14.199895500Z",
     "start_time": "2025-03-13T13:50:56.892757Z"
    }
   },
   "outputs": [
    {
     "name": "stdout",
     "output_type": "stream",
     "text": [
      "+----+------+\n",
      "|word|amount|\n",
      "+----+------+\n",
      "| the| 27549|\n",
      "| and| 26037|\n",
      "|   i| 19540|\n",
      "|  to| 18700|\n",
      "|  of| 18010|\n",
      "|   a| 14383|\n",
      "|  my| 12455|\n",
      "|  in| 10671|\n",
      "| you| 10630|\n",
      "|that| 10487|\n",
      "|  is|  9145|\n",
      "| for|  7982|\n",
      "|with|  7931|\n",
      "| not|  7643|\n",
      "|your|  6871|\n",
      "| his|  6749|\n",
      "|  be|  6700|\n",
      "| but|  5886|\n",
      "|  he|  5884|\n",
      "|  as|  5882|\n",
      "+----+------+\n",
      "\n"
     ]
    }
   ],
   "execution_count": 7
  },
  {
   "cell_type": "markdown",
   "source": [
    "### Step 8  : Saving the result as a Delta table\n",
    "After running this step you should have a directory spark-warehouse/shakespeareWords in your project directory. This directory contains the Delta table. Right click the root directory and click \"Reload all from disk\" to see the directory.\n",
    "\n",
    "Possible error solutions:\n",
    "1. Make sure the previous step was executed correctly\n",
    "2. Make sure delta-spark is installed correctly. If not, run the requirements.txt again.\n",
    "3. Make sure your project is not in a user directory with spaces in the name.\n",
    "4. Make sure you have the correct permissions to write to the project directory."
   ],
   "metadata": {
    "collapsed": false
   }
  },
  {
   "cell_type": "code",
   "source": [
    "# With this registered as a temp view, it will only be available to this particular notebook. If you'd like other users to be able to query this table, you can also create a table from the DataFrame.\n",
    "# Once saved, this table will persist across cluster restarts as well as allow various users across different notebooks to query this data.\n",
    "# To do so, choose your table name and uncomment the bottom line.\n",
    "lowerwords.describe()\n",
    "\n",
    "permanent_table_name = \"shakespeareWords\"\n",
    "\n",
    "lowerwords.write.format(\"delta\").mode(\"overwrite\").saveAsTable(permanent_table_name)"
   ],
   "metadata": {
    "collapsed": false,
    "ExecuteTime": {
     "end_time": "2025-05-17T12:31:14.199895500Z",
     "start_time": "2025-03-13T13:51:03.541073Z"
    }
   },
   "outputs": [],
   "execution_count": 8
  },
  {
   "cell_type": "code",
   "execution_count": null,
   "outputs": [],
   "source": [
    "spark.stop()"
   ],
   "metadata": {
    "collapsed": false
   }
  },
  {
   "metadata": {},
   "cell_type": "code",
   "outputs": [],
   "execution_count": null,
   "source": ""
  },
  {
   "metadata": {},
   "cell_type": "code",
   "outputs": [],
   "execution_count": null,
   "source": ""
  },
  {
   "metadata": {},
   "cell_type": "code",
   "outputs": [],
   "execution_count": null,
   "source": ""
  }
 ],
 "metadata": {
  "kernelspec": {
   "display_name": "Python 3",
   "language": "python",
   "name": "python3"
  },
  "language_info": {
   "codemirror_mode": {
    "name": "ipython",
    "version": 2
   },
   "file_extension": ".py",
   "mimetype": "text/x-python",
   "name": "python",
   "nbconvert_exporter": "python",
   "pygments_lexer": "ipython2",
   "version": "2.7.6"
  }
 },
 "nbformat": 4,
 "nbformat_minor": 0
}
