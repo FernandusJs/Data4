{
 "cells": [
  {
   "cell_type": "markdown",
   "source": [
    "## Installation Check\n",
    "You should be able to run all cells to advance with the course.\n",
    "Every cell has some troubleshooting guidelines included.\n",
    "\n",
    "### Step 1 : Importing needed modules\n",
    "Possible error solutions:\n",
    "1. Check if the needed packages are installed correctly (View > Tool windows > Python Packages). If not, run the requirements.txt again.\n",
    "2. If you applied some changes to the environment during this session, restart the PyCharme IDE."
   ],
   "metadata": {
    "collapsed": false
   }
  },
  {
   "cell_type": "code",
   "execution_count": 1,
   "metadata": {
    "collapsed": true,
    "ExecuteTime": {
     "start_time": "2023-09-12T13:26:47.496675Z",
     "end_time": "2023-09-12T13:26:48.045053Z"
    }
   },
   "outputs": [],
   "source": [
    "from pyspark.sql import SparkSession\n",
    "from delta import configure_spark_with_delta_pip"
   ]
  },
  {
   "cell_type": "markdown",
   "source": [
    "### Step 2 : Setting up environment variables\n",
    "To avoid setting up the environment variables in your os, this code will set the correct variables. Make sure you adjusted ConnectionConfig.py with the correct directories.\n",
    "Look closely at the listed variables to make sure everything is set correctly. PATH, HADOOP_HOME, JAVA_HOME and SPARK_HOME should be set correctly.\n"
   ],
   "metadata": {
    "collapsed": false
   }
  },
  {
   "cell_type": "code",
   "execution_count": 2,
   "outputs": [
    {
     "name": "stdout",
     "output_type": "stream",
     "text": [
      "ALLUSERSPROFILE: C:\\ProgramData\n",
      "APPDATA: C:\\Users\\overvelj\\AppData\\Roaming\n",
      "COMMONPROGRAMFILES: C:\\Program Files\\Common Files\n",
      "COMMONPROGRAMFILES(X86): C:\\Program Files (x86)\\Common Files\n",
      "COMMONPROGRAMW6432: C:\\Program Files\\Common Files\n",
      "COMPUTERNAME: AKDGPORT11191\n",
      "COMSPEC: C:\\WINDOWS\\system32\\cmd.exe\n",
      "DRIVERDATA: C:\\Windows\\System32\\Drivers\\DriverData\n",
      "HOMEDRIVE: C:\n",
      "HOMEPATH: \\Users\\overvelj\n",
      "IDEA_INITIAL_DIRECTORY: C:\\WINDOWS\\system32\n",
      "JAVA_HOME: C:\\Program Files\\Java\\jdk-11.0.8\\\n",
      "LANG: en_US.UTF-8\n",
      "LANGUAGE: \n",
      "LC_ALL: en_US.UTF-8\n",
      "LOCALAPPDATA: C:\\Users\\overvelj\\AppData\\Local\n",
      "LOGONSERVER: \\\\CDCDCADM02\n",
      "NUMBER_OF_PROCESSORS: 8\n",
      "ONEDRIVE: C:\\Users\\overvelj\\OneDrive - Karel de Grote Hogeschool\n",
      "ONEDRIVECOMMERCIAL: C:\\Users\\overvelj\\OneDrive - Karel de Grote Hogeschool\n",
      "OS: Windows_NT\n",
      "PATH: C:\\DevApps\\DeltaSpark\\Scripts;C:\\Program Files (x86)\\Common Files\\Oracle\\Java\\javapath;C:\\Users\\overvelj\\AppData\\Local\\Programs\\Python\\Python39;C:\\Program Files\\Common Files\\Oracle\\Java\\javapathREMOVE;C:\\Program Files (x86)\\Common Files\\Oracle\\Java\\javapathREMOVE;C:\\WINDOWS\\system32;C:\\WINDOWS;C:\\WINDOWS\\System32\\Wbem;C:\\WINDOWS\\System32\\WindowsPowerShell\\v1.0\\;C:\\WINDOWS\\System32\\OpenSSH\\;C:\\Program Files (x86)\\Microsoft SQL Server\\150\\DTS\\Binn\\;C:\\Program Files\\dotnet\\;C:\\Program Files\\Azure Data Studio\\bin;C:\\Program Files\\Graphviz\\bin;C:\\Program Files\\mongosh\\;C:\\Program Files\\MongoDB\\Server\\5.0\\bin;C:\\DevApps\\VENV309_DS2\\\\Scripts;C:\\Program Files\\Microsoft SQL Server\\Client SDK\\ODBC\\170\\Tools\\Binn\\;C:\\DevApps\\gradle-7.6\\bin;C:\\Program Files\\Docker\\Docker\\resources\\bin;C:\\Program Files\\Git\\cmd;C:\\Program Files\\Amazon\\AWSCLIV2\\;C:\\Users\\overvelj\\AppData\\Local\\Programs\\Python\\Python310_9\\Scripts\\;C:\\Users\\overvelj\\AppData\\Local\\Programs\\Python\\Python310_9\\;C:\\Users\\overvelj\\AppData\\Local\\Microsoft\\WindowsApps;C:\\Users\\overvelj\\.dotnet\\tools;C:\\Users\\overvelj\\AppData\\Local\\Programs\\Microsoft VS Code\\bin;C:\\Users\\overvelj\\AppData\\Local\\Programs\\Git\\cmd;C:\\Program Files\\mongosh\\;C:\\Users\\overvelj\\AppData\\Local\\JetBrains\\Toolbox\\scripts;C:\\DevApps\\bigdatatools\\spark-3.4.0-bin-hadoop3\\bin;C:\\DevApps\\bigdatatools\\hadoop-3.4.0-win10-x64\\bin;C:\\Program Files\\Java\\jdk-11.0.8\\bin\n",
      "PATHEXT: .COM;.EXE;.BAT;.CMD;.VBS;.VBE;.JS;.JSE;.WSF;.WSH;.MSC;.PY;.PYW\n",
      "PROCESSOR_ARCHITECTURE: AMD64\n",
      "PROCESSOR_IDENTIFIER: Intel64 Family 6 Model 142 Stepping 12, GenuineIntel\n",
      "PROCESSOR_LEVEL: 6\n",
      "PROCESSOR_REVISION: 8e0c\n",
      "PROGRAMDATA: C:\\ProgramData\n",
      "PROGRAMFILES: C:\\Program Files\n",
      "PROGRAMFILES(X86): C:\\Program Files (x86)\n",
      "PROGRAMW6432: C:\\Program Files\n",
      "PROMPT: (DeltaSpark) $P$G\n",
      "PSDISTRICT_BOOTIMAGEVERSION: CCM002C6\n",
      "PSDISTRICT_DEPLOYMENTID: CCM00B0B\n",
      "PSDISTRICT_INSTALLATIONDATE: 20200814-15:15:29\n",
      "PSDISTRICT_INSTALLATIONMETHOD: PXE\n",
      "PSDISTRICT_OFFICEINSTALL: clicktorun2016\n",
      "PSDISTRICT_SITECODE: CCM\n",
      "PSDISTRICT_TAAK: domein\n",
      "PSDISTRICT_TATTOOSCRIPTVERSION: 1.4.3\n",
      "PSDISTRICT_TSID: CCM00B0B\n",
      "PSDISTRICT_TSNAME: KdG_W10_1909_Prod_200612.02\n",
      "PSDISTRICT_UNATTEND: win10ent64-nl-BE-Admin.xml\n",
      "PSMODULEPATH: C:\\Program Files\\WindowsPowerShell\\Modules;C:\\WINDOWS\\system32\\WindowsPowerShell\\v1.0\\Modules\n",
      "PUBLIC: C:\\Users\\Public\n",
      "PYTHONPATH: C:\\DevProjects\\Databricks\n",
      "SESSIONNAME: Console\n",
      "SYSTEMDRIVE: C:\n",
      "SYSTEMROOT: C:\\WINDOWS\n",
      "TEMP: C:\\Users\\overvelj\\AppData\\Local\\Temp\n",
      "TMP: C:\\Users\\overvelj\\AppData\\Local\\Temp\n",
      "UATDATA: C:\\WINDOWS\\CCM\\UATData\\D9F8C395-CAB8-491d-B8AC-179A1FE1BE77\n",
      "USERDNSDOMAIN: ADMIN.KDG.BE\n",
      "USERDOMAIN: ADMIN\n",
      "USERDOMAIN_ROAMINGPROFILE: ADMIN\n",
      "USERNAME: overvelj\n",
      "USERPROFILE: C:\\Users\\overvelj\n",
      "VIRTUAL_ENV: C:\\DevApps\\DeltaSpark\n",
      "WINDIR: C:\\WINDOWS\n",
      "ZES_ENABLE_SYSMAN: 1\n",
      "_OLD_VIRTUAL_PATH: C:\\Program Files (x86)\\Common Files\\Oracle\\Java\\javapath;C:\\Users\\overvelj\\AppData\\Local\\Programs\\Python\\Python39;C:\\Program Files\\Common Files\\Oracle\\Java\\javapathREMOVE;C:\\Program Files (x86)\\Common Files\\Oracle\\Java\\javapathREMOVE;C:\\WINDOWS\\system32;C:\\WINDOWS;C:\\WINDOWS\\System32\\Wbem;C:\\WINDOWS\\System32\\WindowsPowerShell\\v1.0\\;C:\\WINDOWS\\System32\\OpenSSH\\;C:\\Program Files (x86)\\Microsoft SQL Server\\150\\DTS\\Binn\\;C:\\Program Files\\dotnet\\;C:\\Program Files\\Azure Data Studio\\bin;C:\\Program Files\\Graphviz\\bin;C:\\Program Files\\mongosh\\;C:\\Program Files\\MongoDB\\Server\\5.0\\bin;C:\\DevApps\\VENV309_DS2\\\\Scripts;C:\\Program Files\\Microsoft SQL Server\\Client SDK\\ODBC\\170\\Tools\\Binn\\;C:\\DevApps\\gradle-7.6\\bin;C:\\Program Files\\Docker\\Docker\\resources\\bin;C:\\Program Files\\Git\\cmd;C:\\Program Files\\Amazon\\AWSCLIV2\\;C:\\Users\\overvelj\\AppData\\Local\\Programs\\Python\\Python310_9\\Scripts\\;C:\\Users\\overvelj\\AppData\\Local\\Programs\\Python\\Python310_9\\;C:\\Users\\overvelj\\AppData\\Local\\Microsoft\\WindowsApps;C:\\Users\\overvelj\\.dotnet\\tools;C:\\Users\\overvelj\\AppData\\Local\\Programs\\Microsoft VS Code\\bin;C:\\Users\\overvelj\\AppData\\Local\\Programs\\Git\\cmd;C:\\Program Files\\mongosh\\;C:\\Users\\overvelj\\AppData\\Local\\JetBrains\\Toolbox\\scripts\n",
      "_OLD_VIRTUAL_PROMPT: $P$G\n",
      "PYDEVD_USE_FRAME_EVAL: NO\n",
      "JPY_INTERRUPT_EVENT: 1768\n",
      "IPY_INTERRUPT_EVENT: 1768\n",
      "JPY_PARENT_PID: 1628\n",
      "TERM: xterm-color\n",
      "CLICOLOR: 1\n",
      "FORCE_COLOR: 1\n",
      "CLICOLOR_FORCE: 1\n",
      "PAGER: cat\n",
      "GIT_PAGER: cat\n",
      "MPLBACKEND: module://matplotlib_inline.backend_inline\n",
      "PYSPARK_PYTHON: python\n",
      "SPARK_HOME: C:\\DevApps\\bigdatatools\\spark-3.4.0-bin-hadoop3\n",
      "HADOOP_HOME: C:\\DevApps\\bigdatatools\\hadoop-3.4.0-win10-x64\n",
      "PYSPARK_HADOOP_VERSION: 3\n"
     ]
    }
   ],
   "source": [
    "import ConnectionConfig as cc\n",
    "cc.setupEnvironment()\n",
    "cc.listEnvironment()"
   ],
   "metadata": {
    "collapsed": false,
    "ExecuteTime": {
     "start_time": "2023-09-12T13:27:19.489029Z",
     "end_time": "2023-09-12T13:27:19.588706Z"
    }
   }
  },
  {
   "cell_type": "markdown",
   "source": [
    "### Step 3 : Configuring the sparkSession\n",
    "Possible error solutions:\n",
    "1. Make sure the imports in step 1 succeeded."
   ],
   "metadata": {
    "collapsed": false
   }
  },
  {
   "cell_type": "code",
   "execution_count": 3,
   "outputs": [],
   "source": [
    "builder = SparkSession.builder \\\n",
    "    .appName(\"InstallCheck\") \\\n",
    "    .config(\"spark.sql.extensions\", \"io.delta.sql.DeltaSparkSessionExtension\") \\\n",
    "    .config(\"spark.sql.catalog.spark_catalog\", \"org.apache.spark.sql.delta.catalog.DeltaCatalog\") \\\n",
    "    .config(\"spark.sql.shuffle.partitions\", \"4\") \\\n",
    "    .master(\"local[*]\")\n",
    "\n",
    "builder = configure_spark_with_delta_pip(builder)\n",
    "\n",
    "\n"
   ],
   "metadata": {
    "collapsed": false,
    "ExecuteTime": {
     "start_time": "2023-09-12T13:27:41.963005Z",
     "end_time": "2023-09-12T13:27:42.059850Z"
    }
   }
  },
  {
   "cell_type": "markdown",
   "source": [
    "### Step 4  : Creating a local spark cluster\n",
    "This step starts the sparkSession. Because you are running a local cluster.\n",
    "If you already started a sparkSession with getOrCreate(), running this cell does not change the session. Restart the Jupyter server, and rerun all above cells again\n",
    "After running this step you will get the url (click on Spark UI) to the Spark server. Check if you can visit the URL\n",
    "\n",
    "Possible error solutions:\n",
    "\n",
    "1. Make sure the previous step was executed correctly\n",
    "2. Check your environment variables again with es.listEnvironment(). HADOOP_HOME, SPARK_HOME and PATH have to be set correctly corresponding the instructions in README.MD. In most cases the error message will give you information on what went wrong.\n",
    "3. Read the error message. If you don't get a clear error message look at Jupyter console (View > Tool windows > Python Packages). The console will give information about the startup proces of the Spark-server\n",
    "4. In Windows, make sure your HADOOP_HOME has winutils.exe in the bin directory. If not see README.MD for clear instructions"
   ],
   "metadata": {
    "collapsed": false
   }
  },
  {
   "cell_type": "code",
   "execution_count": 4,
   "outputs": [
    {
     "data": {
      "text/plain": "<pyspark.sql.session.SparkSession at 0x1540d0bfd60>",
      "text/html": "\n            <div>\n                <p><b>SparkSession - in-memory</b></p>\n                \n        <div>\n            <p><b>SparkContext</b></p>\n\n            <p><a href=\"http://AKDGPORT11191.mshome.net:4040\">Spark UI</a></p>\n\n            <dl>\n              <dt>Version</dt>\n                <dd><code>v3.4.0</code></dd>\n              <dt>Master</dt>\n                <dd><code>local[*]</code></dd>\n              <dt>AppName</dt>\n                <dd><code>InstallCheck</code></dd>\n            </dl>\n        </div>\n        \n            </div>\n        "
     },
     "execution_count": 4,
     "metadata": {},
     "output_type": "execute_result"
    }
   ],
   "source": [
    "spark = builder.getOrCreate()\n",
    "spark.getActiveSession()"
   ],
   "metadata": {
    "collapsed": false,
    "ExecuteTime": {
     "start_time": "2023-09-12T13:28:15.275412Z",
     "end_time": "2023-09-12T13:28:35.261641Z"
    }
   }
  },
  {
   "cell_type": "markdown",
   "source": [
    "### Step 5  : Reading source into Spark DataFrame\n",
    "\n",
    "Possible error solutions:\n",
    "1. Make sure the file is present in the project at [file_location]"
   ],
   "metadata": {
    "collapsed": false
   }
  },
  {
   "cell_type": "code",
   "execution_count": 5,
   "outputs": [
    {
     "name": "stdout",
     "output_type": "stream",
     "text": [
      "+--------------------+\n",
      "|               value|\n",
      "+--------------------+\n",
      "|This is the 100th...|\n",
      "|is presented in c...|\n",
      "|Library of the Fu...|\n",
      "|often releases Et...|\n",
      "|                    |\n",
      "|         Shakespeare|\n",
      "|                    |\n",
      "|*This Etext has c...|\n",
      "|                    |\n",
      "|<<THIS ELECTRONIC...|\n",
      "|SHAKESPEARE IS CO...|\n",
      "|PROVIDED BY PROJE...|\n",
      "|WITH PERMISSION. ...|\n",
      "|DISTRIBUTED SO LO...|\n",
      "|PERSONAL USE ONLY...|\n",
      "|COMMERCIALLY.  PR...|\n",
      "|SERVICE THAT CHAR...|\n",
      "|                    |\n",
      "|*Project Gutenber...|\n",
      "|in the presentati...|\n",
      "+--------------------+\n",
      "only showing top 20 rows\n",
      "\n"
     ]
    },
    {
     "data": {
      "text/plain": "DataFrame[summary: string, value: string]"
     },
     "execution_count": 5,
     "metadata": {},
     "output_type": "execute_result"
    }
   ],
   "source": [
    "# File location and type\n",
    "file_location = \"./FileStore/tables/shakespeare.txt\"\n",
    "file_type = \"text\"\n",
    "\n",
    "# The applied options are for CSV files. For other file types, these will be ignored.\n",
    "df = spark.read.format(file_type)  \\\n",
    "  .load(file_location)\n",
    "df.show()\n",
    "df.describe()"
   ],
   "metadata": {
    "collapsed": false,
    "ExecuteTime": {
     "start_time": "2023-09-12T13:29:08.575823Z",
     "end_time": "2023-09-12T13:29:13.592815Z"
    }
   }
  },
  {
   "cell_type": "markdown",
   "source": [
    "### Step 7  : Creating a view on the source and performing SQL on View\n",
    "This step should not pose any problem if the previous steps where successful.\n"
   ],
   "metadata": {
    "collapsed": false
   }
  },
  {
   "cell_type": "code",
   "execution_count": 6,
   "outputs": [
    {
     "name": "stdout",
     "output_type": "stream",
     "text": [
      "+----+------+\n",
      "|word|amount|\n",
      "+----+------+\n",
      "| the| 27549|\n",
      "| and| 26037|\n",
      "|   i| 19540|\n",
      "|  to| 18700|\n",
      "|  of| 18010|\n",
      "|   a| 14383|\n",
      "|  my| 12455|\n",
      "|  in| 10671|\n",
      "| you| 10630|\n",
      "|that| 10487|\n",
      "|  is|  9145|\n",
      "| for|  7982|\n",
      "|with|  7931|\n",
      "| not|  7643|\n",
      "|your|  6871|\n",
      "| his|  6749|\n",
      "|  be|  6700|\n",
      "| but|  5886|\n",
      "|  he|  5884|\n",
      "|  as|  5882|\n",
      "+----+------+\n",
      "\n"
     ]
    }
   ],
   "source": [
    "df.createOrReplaceTempView('lines')\n",
    "words = spark.sql('select explode(split(value, \" \")) from lines')\n",
    "words.createOrReplaceTempView('words')\n",
    "lowerwords = spark.sql('select lower(trim(col)) as word, count(*) as amount from words where lower(trim(col)) <> \"\" group by lower(trim(col)) order by amount desc limit 20')\n",
    "lowerwords.show()\n"
   ],
   "metadata": {
    "collapsed": false,
    "ExecuteTime": {
     "start_time": "2023-09-12T13:29:26.225787Z",
     "end_time": "2023-09-12T13:29:28.842894Z"
    }
   }
  },
  {
   "cell_type": "markdown",
   "source": [
    "### Step 8  : Saving the result as a Delta table\n",
    "After running this step you should have a directory spark-warehouse/shakespeareWords in your project directory. This directory contains the Delta table. Right click the root directory and click \"Reload all from disk\" to see the directory.\n",
    "\n",
    "Possible error solutions:\n",
    "1. Make sure the previous step was executed correctly\n",
    "2. Make sure delta-spark is installed correctly. If not, run the requirements.txt again.\n",
    "3. Make sure your project is not in a user directory with spaces in the name.\n",
    "4. Make sure you have the correct permissions to write to the project directory."
   ],
   "metadata": {
    "collapsed": false
   }
  },
  {
   "cell_type": "code",
   "execution_count": 7,
   "outputs": [
    {
     "data": {
      "text/plain": "DataFrame[summary: string, word: string, amount: string]"
     },
     "execution_count": 7,
     "metadata": {},
     "output_type": "execute_result"
    }
   ],
   "source": [
    "# With this registered as a temp view, it will only be available to this particular notebook. If you'd like other users to be able to query this table, you can also create a table from the DataFrame.\n",
    "# Once saved, this table will persist across cluster restarts as well as allow various users across different notebooks to query this data.\n",
    "# To do so, choose your table name and uncomment the bottom line.\n",
    "lowerwords.describe()\n",
    "\n",
    "permanent_table_name = \"shakespeareWords\"\n",
    "\n",
    "lowerwords.write.format(\"delta\").mode(\"overwrite\").saveAsTable(permanent_table_name)"
   ],
   "metadata": {
    "collapsed": false,
    "ExecuteTime": {
     "start_time": "2023-09-12T13:29:49.762419Z",
     "end_time": "2023-09-12T13:30:06.247619Z"
    }
   }
  },
  {
   "cell_type": "code",
   "execution_count": null,
   "outputs": [],
   "source": [],
   "metadata": {
    "collapsed": false
   }
  }
 ],
 "metadata": {
  "kernelspec": {
   "display_name": "Python 3",
   "language": "python",
   "name": "python3"
  },
  "language_info": {
   "codemirror_mode": {
    "name": "ipython",
    "version": 2
   },
   "file_extension": ".py",
   "mimetype": "text/x-python",
   "name": "python",
   "nbconvert_exporter": "python",
   "pygments_lexer": "ipython2",
   "version": "2.7.6"
  }
 },
 "nbformat": 4,
 "nbformat_minor": 0
}
