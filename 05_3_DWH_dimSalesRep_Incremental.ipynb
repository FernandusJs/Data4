{
 "cells": [
  {
   "cell_type": "markdown",
   "source": [
    "# Config stuff"
   ],
   "metadata": {
    "collapsed": false
   }
  },
  {
   "cell_type": "code",
   "execution_count": 110,
   "outputs": [],
   "source": [
    "\n",
    "import ConnectionConfig as cc\n",
    "from delta import DeltaTable\n",
    "from datetime import datetime"
   ],
   "metadata": {
    "collapsed": false,
    "ExecuteTime": {
     "start_time": "2023-09-20T13:13:08.499376Z",
     "end_time": "2023-09-20T13:13:08.529659Z"
    }
   }
  },
  {
   "cell_type": "code",
   "execution_count": 111,
   "outputs": [
    {
     "name": "stdout",
     "output_type": "stream",
     "text": [
      "<pyspark.sql.session.SparkSession object at 0x0000022C28A57A00>\n"
     ]
    },
    {
     "data": {
      "text/plain": "<pyspark.sql.session.SparkSession at 0x22c28a57a00>",
      "text/html": "\n            <div>\n                <p><b>SparkSession - in-memory</b></p>\n                \n        <div>\n            <p><b>SparkContext</b></p>\n\n            <p><a href=\"http://host.docker.internal:4041\">Spark UI</a></p>\n\n            <dl>\n              <dt>Version</dt>\n                <dd><code>v3.4.0</code></dd>\n              <dt>Master</dt>\n                <dd><code>local[*]</code></dd>\n              <dt>AppName</dt>\n                <dd><code>dimSalesIncrementalLoad</code></dd>\n            </dl>\n        </div>\n        \n            </div>\n        "
     },
     "execution_count": 111,
     "metadata": {},
     "output_type": "execute_result"
    }
   ],
   "source": [
    "cc.setupEnvironment()\n",
    "spark = cc.startLocalCluster(\"dimSalesIncrementalLoad\")\n",
    "spark.getActiveSession()"
   ],
   "metadata": {
    "collapsed": false,
    "ExecuteTime": {
     "start_time": "2023-09-20T13:13:10.908116Z",
     "end_time": "2023-09-20T13:13:11.090306Z"
    }
   }
  },
  {
   "cell_type": "markdown",
   "source": [
    "## Incremental load\n",
    "\n",
    "After the sales Rep dimension is filled for the first time, the logic to update the dimension has to be handled differently. A change of a record in the source system has to be handled as a change in the dimension. The SCD2 logic is used to handle this.\n",
    "\n",
    "The SCD2 implementation requires a more complex transformation to correctly handle changes in the source files. For detailed information consult the comments in the code.\n",
    "### Setting the parameters\n",
    "The timestamp of the job is used to set the scd_end date of the previous record and the scd_start date of the new record."
   ],
   "metadata": {
    "collapsed": false
   }
  },
  {
   "cell_type": "code",
   "execution_count": 112,
   "outputs": [],
   "source": [
    "run_timestamp =datetime.now() #The job runtime is stored in a variable"
   ],
   "metadata": {
    "collapsed": false,
    "ExecuteTime": {
     "start_time": "2023-09-20T13:13:14.655965Z",
     "end_time": "2023-09-20T13:13:14.687211Z"
    }
   }
  },
  {
   "cell_type": "markdown",
   "source": [
    "### Read existing dimension"
   ],
   "metadata": {
    "collapsed": false
   }
  },
  {
   "cell_type": "code",
   "execution_count": 114,
   "outputs": [
    {
     "name": "stdout",
     "output_type": "stream",
     "text": [
      "+----------+--------------+-------------+--------------------+--------------------+\n",
      "|salesRepID|          name|       office|          salesRepSK|                 md5|\n",
      "+----------+--------------+-------------+--------------------+--------------------+\n",
      "|         5|       J.Mosby|       Berlin|392eef95-7448-481...|fa85515824433037a...|\n",
      "|         6|    B. Simpson|     New York|40945224-e95e-42f...|0ecb6ba5656492a5f...|\n",
      "|         7|    B. Stinson|San Fransisco|2fa41c1a-4fb7-457...|e726b2d8dc0cf9a6f...|\n",
      "|         8| L. Hofstadter|     Brussels|7b4e26d0-0ef4-479...|a2bbe52f8274b0f08...|\n",
      "|         9|     S. Cooper|     Brussels|10c3e797-2cfb-490...|d85c73c9d03df0002...|\n",
      "|         1|       Z. Jane|       London|20c5b991-3e36-4a3...|d5fbd19b14904dc4d...|\n",
      "|         1|       Z. Jane|       Berlin|e1403167-d6bc-4e1...|00b409cd29c569266...|\n",
      "|         2|P. Chapmanneke|       Berlin|4b7542d1-f37c-497...|ff8eb928f1004c797...|\n",
      "|         3|      T. Crane|     New York|4aebfcb7-48c1-467...|6c062f95defda9dc3...|\n",
      "|         4|     R. Geller|        Paris|1605101a-71cf-4bd...|6f34bd2f09f010ec1...|\n",
      "|     10019|         Frits|        Paris|d1ea5e8c-48b5-4e5...|18e0feb4944ac7a30...|\n",
      "|        10|  F. Underwood|     Brussels|2f86a6f3-a4d6-448...|44cd1a6d596b05688...|\n",
      "|        11|      W. White|     New York|0e0d96aa-c680-474...|f9ea69ce2aa4482b4...|\n",
      "|        12|  T. Lannister|     New York|1b0305db-f628-48a...|3259a471f9816d7c3...|\n",
      "|        13|     M. Rosske|       London|11945efe-27c2-46c...|c99e12e650c2aebc8...|\n",
      "|     10015|         Frits|       London|47735880-7086-418...|a9986535dd7259e4c...|\n",
      "|     10016|          Baby|       London|f73e89e8-e0fb-4a4...|3791c67a76ab1b258...|\n",
      "|     10017|      Boomerke|        Paris|306f29e6-65dd-47d...|03900773d45edec5e...|\n",
      "|     10018|        Boomer|       London|e6285f3a-e1bc-464...|41f9e91bd29384e7a...|\n",
      "+----------+--------------+-------------+--------------------+--------------------+\n",
      "\n"
     ]
    }
   ],
   "source": [
    "dt_dimSalesRep = DeltaTable.forPath(spark,\".\\spark-warehouse\\dimsalesrep\")\n",
    "\n",
    "dt_dimSalesRep.toDF().createOrReplaceTempView(\"dimSalesRep_current\")\n",
    "\n",
    "#DEBUG CODE TO SHOW CONTENT OF DIMENSION\n",
    "spark.sql(\"select salesRepID, name, office, salesRepSK, md5  from dimSalesRep_current \").show()"
   ],
   "metadata": {
    "collapsed": false,
    "ExecuteTime": {
     "start_time": "2023-09-20T13:14:46.562779Z",
     "end_time": "2023-09-20T13:14:52.302594Z"
    }
   }
  },
  {
   "cell_type": "markdown",
   "source": [
    "### Read source table"
   ],
   "metadata": {
    "collapsed": false
   }
  },
  {
   "cell_type": "markdown",
   "source": [
    "\n",
    "##### 1 READ SOURCE TABLE\n",
    "Creating dataframe with source table (from operational system). Transformed to the dimension format.\n",
    "The surrogate key is a uuid to be sure it's unique.\n",
    "md5 hash is used to identify changes in the source table.\n",
    "A view is created of the resulting dataframe to make it available for the next step."
   ],
   "metadata": {
    "collapsed": false
   }
  },
  {
   "cell_type": "code",
   "execution_count": 115,
   "outputs": [
    {
     "name": "stdout",
     "output_type": "stream",
     "text": [
      "+--------------------+-----------------+--------------+-------------+--------------------+\n",
      "|   source_salesRepSK|source_salesRepId|   source_name|source_office|          source_md5|\n",
      "+--------------------+-----------------+--------------+-------------+--------------------+\n",
      "|d89dbdf9-eb37-445...|                1|       Z. Jane|       London|d5fbd19b14904dc4d...|\n",
      "|a678917d-23db-4a1...|                2|P. Chapmanneke|       Berlin|ff8eb928f1004c797...|\n",
      "|1c3a9418-111d-4c1...|                3|      T. Crane|     New York|6c062f95defda9dc3...|\n",
      "|775d4941-765c-43e...|                4|     R. Geller|        Paris|6f34bd2f09f010ec1...|\n",
      "|42260cc5-f0a0-45d...|                5|       J.Mosby|       Berlin|fa85515824433037a...|\n",
      "|307a0130-974f-40a...|                6|    B. Simpson|     New York|0ecb6ba5656492a5f...|\n",
      "|86051915-f668-465...|                7|    B. Stinson|San Fransisco|e726b2d8dc0cf9a6f...|\n",
      "|afd18337-77c2-4bf...|                8| L. Hofstadter|     Brussels|a2bbe52f8274b0f08...|\n",
      "|2cbe0196-da6b-4dd...|                9|     S. Cooper|     Brussels|d85c73c9d03df0002...|\n",
      "|81255822-efe4-438...|               10|  F. Underwood|     Brussels|44cd1a6d596b05688...|\n",
      "|979b522d-825a-467...|               11|      W. White|     New York|f9ea69ce2aa4482b4...|\n",
      "|d0081048-a6da-488...|               12|  T. Lannister|     New York|3259a471f9816d7c3...|\n",
      "|3d0544da-d2d5-488...|               13|     M. Rosske|       London|c99e12e650c2aebc8...|\n",
      "|33dabddb-35b0-42f...|            10015|         Frits|       London|a9986535dd7259e4c...|\n",
      "|ad6e9551-4c55-4a3...|            10016|          Baby|       London|3791c67a76ab1b258...|\n",
      "|a869f95c-bc99-484...|            10017|      Boomerke|        Paris|03900773d45edec5e...|\n",
      "|0c1b223d-726e-4ab...|            10018|        Boomer|       London|41f9e91bd29384e7a...|\n",
      "|c78b96b9-5bc7-428...|            10019|         Frits|        Paris|18e0feb4944ac7a30...|\n",
      "+--------------------+-----------------+--------------+-------------+--------------------+\n",
      "\n"
     ]
    }
   ],
   "source": [
    "cc.set_connection(\"tutorial_op\")\n",
    "\n",
    "#a. Reading from a JDBC source\n",
    "df_operational_sales_rep = spark.read \\\n",
    "    .format(\"jdbc\") \\\n",
    "    .option(\"driver\" , \"com.microsoft.sqlserver.jdbc.SQLServerDriver\") \\\n",
    "    .option(\"url\", cc.create_jdbc()) \\\n",
    "    .option(\"dbtable\", \"dbo.salesrep\") \\\n",
    "    .option(\"user\", cc.get_Property(\"username\")) \\\n",
    "    .option(\"password\", cc.get_Property(\"password\")) \\\n",
    "    .option(\"partitionColumn\", \"salesRepID\") \\\n",
    "    .option(\"numPartitions\", 4) \\\n",
    "    .option(\"lowerBound\", 0) \\\n",
    "    .option(\"upperBound\", 20) \\\n",
    "    .load()\n",
    "\n",
    "df_operational_sales_rep.createOrReplaceTempView(\"operational_sales_rep\")\n",
    "\n",
    "#b. Transforming the source to the dimension format\n",
    "df_dim_sales_rep_new = spark.sql( \"select uuid() as source_salesRepSK, \\\n",
    "                                        salesRepId as source_salesRepId, \\\n",
    "                                        name as source_name, \\\n",
    "                                        office as source_office, \\\n",
    "                                        md5(concat( name, office)) as source_md5 \\\n",
    "                                    from operational_sales_rep\")\n",
    "\n",
    "df_dim_sales_rep_new.createOrReplaceTempView(\"dimSalesRep_new\")\n",
    "\n",
    "#DEBUG CODE TO SHOW CONTENT OF SOURCE\n",
    "#df_dim_sales_rep_new.printSchema()\n",
    "#df_dim_sales_rep_new.show()\n",
    "spark.sql(\"select * from dimSalesRep_new\").show()\n",
    "#df_dim_sales_rep.write.format(\"delta\").mode(\"overwrite\").saveAsTable(\"dimSalesRep\")\n"
   ],
   "metadata": {
    "collapsed": false,
    "ExecuteTime": {
     "start_time": "2023-09-20T13:14:54.082875Z",
     "end_time": "2023-09-20T13:14:54.368902Z"
    }
   }
  },
  {
   "cell_type": "markdown",
   "source": [
    "\n",
    "##### 2 DETECT CHANGES\n",
    "Dataframe to identify SCD2 changed rows.\n",
    "First a join between SOURCE (operational system) and DIMENSION (dwh) is performed\n",
    "   The md5 hash is used to identify differences.\n",
    "   The list contains:\n",
    "       - updated source-rows (the join finds a rowand the md5 is different)  and\n",
    "       - new source-rows (the leftouter join does not find a row in the dimension (dwh.salesRepId is null)"
   ],
   "metadata": {
    "collapsed": false
   }
  },
  {
   "cell_type": "code",
   "execution_count": 116,
   "outputs": [
    {
     "name": "stdout",
     "output_type": "stream",
     "text": [
      "+-----------------+-----------------+-----------+-------------+----------+----------+----------+----+------+---------+-------+---+-------+\n",
      "|source_salesRepSK|source_salesRepId|source_name|source_office|source_md5|salesRepSK|salesRepID|name|office|scd_start|scd_end|md5|current|\n",
      "+-----------------+-----------------+-----------+-------------+----------+----------+----------+----+------+---------+-------+---+-------+\n",
      "+-----------------+-----------------+-----------+-------------+----------+----------+----------+----+------+---------+-------+---+-------+\n",
      "\n"
     ]
    }
   ],
   "source": [
    "\n",
    "detectedChanges=spark.sql(f\"select * \\\n",
    "                          from dimSalesRep_new source \\\n",
    "                          left outer join dimSalesRep_current dwh on dwh.salesRepID == source.source_salesRepId and dwh.current == true \\\n",
    "                          where dwh.salesRepId is null or dwh.md5 <> source.source_md5\")\n",
    "\n",
    "detectedChanges.createOrReplaceTempView(\"detectedChanges\")\n",
    "\n",
    "#DEBUG CODE TO SHOW CONTENT OF DETECTED CHANGES\n",
    "detectedChanges.show()\n"
   ],
   "metadata": {
    "collapsed": false,
    "ExecuteTime": {
     "start_time": "2023-09-20T13:15:02.218224Z",
     "end_time": "2023-09-20T13:15:03.003956Z"
    }
   }
  },
  {
   "cell_type": "markdown",
   "source": [
    "\n",
    "##### 3 TRANSOFRM TO UPSERTS\n",
    "Before union: Every updated and new source-row requires the insertion of a new record in the SCD2 dimension. This new records starts at the runtime of the job and ends at the end of time (2100-12-12). Current is set to true.\n",
    "Updated source-rows also require an update of the existing scd-fields. The scd_end date of the existing record is set to the runtime of the job. Current is set to false\n",
    "\n",
    "In the next step, rows without mergeKey will be inserted in the dimension table and rows with mergekey will be updated in the dimension"
   ],
   "metadata": {
    "collapsed": false
   }
  },
  {
   "cell_type": "code",
   "execution_count": 117,
   "outputs": [],
   "source": [
    "\n",
    "df_upserts = spark.sql(f\"select source_salesRepSK as salesRepSK,\\\n",
    "                                source_salesRepId as salesRepID,\\\n",
    "                                source_name as name,\\\n",
    "                                source_office as office,\\\n",
    "                                to_timestamp('{run_timestamp}') as scd_start, \\\n",
    "                                to_timestamp('2100-12-12','yyyy-MM-dd') as scd_end,\\\n",
    "                                source_md5 as md5,\\\n",
    "                                true as current\\\n",
    "                        from  detectedChanges\\\n",
    "                        union \\\n",
    "                        select  salesRepSK,\\\n",
    "                                salesRepId,\\\n",
    "                                name,\\\n",
    "                                office,\\\n",
    "                                scd_start,\\\n",
    "                                to_timestamp('{run_timestamp}') as scd_end,\\\n",
    "                                md5, \\\n",
    "                                false \\\n",
    "                                from detectedChanges \\\n",
    "                        where current is not null\")\n",
    "\n",
    "df_upserts.createOrReplaceTempView(\"upserts\")"
   ],
   "metadata": {
    "collapsed": false,
    "ExecuteTime": {
     "start_time": "2023-09-20T13:16:00.672450Z",
     "end_time": "2023-09-20T13:16:00.807034Z"
    }
   }
  },
  {
   "cell_type": "code",
   "execution_count": 118,
   "outputs": [
    {
     "name": "stdout",
     "output_type": "stream",
     "text": [
      "+----------+----------+----+------+---------+-------+---+-------+\n",
      "|salesRepSK|salesRepID|name|office|scd_start|scd_end|md5|current|\n",
      "+----------+----------+----+------+---------+-------+---+-------+\n",
      "+----------+----------+----+------+---------+-------+---+-------+\n",
      "\n",
      "+--------------------+----------+--------------+-------------+--------------------+--------------------+--------------------+-------+\n",
      "|          salesRepSK|salesRepID|          name|       office|           scd_start|             scd_end|                 md5|current|\n",
      "+--------------------+----------+--------------+-------------+--------------------+--------------------+--------------------+-------+\n",
      "|392eef95-7448-481...|         5|       J.Mosby|       Berlin| 1999-01-01 00:00:00| 2100-12-12 00:00:00|fa85515824433037a...|   true|\n",
      "|40945224-e95e-42f...|         6|    B. Simpson|     New York| 1999-01-01 00:00:00| 2100-12-12 00:00:00|0ecb6ba5656492a5f...|   true|\n",
      "|2fa41c1a-4fb7-457...|         7|    B. Stinson|San Fransisco| 1999-01-01 00:00:00| 2100-12-12 00:00:00|e726b2d8dc0cf9a6f...|   true|\n",
      "|7b4e26d0-0ef4-479...|         8| L. Hofstadter|     Brussels| 1999-01-01 00:00:00| 2100-12-12 00:00:00|a2bbe52f8274b0f08...|   true|\n",
      "|10c3e797-2cfb-490...|         9|     S. Cooper|     Brussels| 1999-01-01 00:00:00| 2100-12-12 00:00:00|d85c73c9d03df0002...|   true|\n",
      "|20c5b991-3e36-4a3...|         1|       Z. Jane|       London|2023-09-20 11:37:...| 2100-12-12 00:00:00|d5fbd19b14904dc4d...|   true|\n",
      "|e1403167-d6bc-4e1...|         1|       Z. Jane|       Berlin| 1999-01-01 00:00:00|2023-09-20 11:37:...|00b409cd29c569266...|  false|\n",
      "|4b7542d1-f37c-497...|         2|P. Chapmanneke|       Berlin| 1999-01-01 00:00:00| 2100-12-12 00:00:00|ff8eb928f1004c797...|   true|\n",
      "|4aebfcb7-48c1-467...|         3|      T. Crane|     New York| 1999-01-01 00:00:00| 2100-12-12 00:00:00|6c062f95defda9dc3...|   true|\n",
      "|1605101a-71cf-4bd...|         4|     R. Geller|        Paris| 1999-01-01 00:00:00| 2100-12-12 00:00:00|6f34bd2f09f010ec1...|   true|\n",
      "|d1ea5e8c-48b5-4e5...|     10019|         Frits|        Paris|2023-09-20 11:37:...| 2100-12-12 00:00:00|18e0feb4944ac7a30...|   true|\n",
      "|2f86a6f3-a4d6-448...|        10|  F. Underwood|     Brussels| 1999-01-01 00:00:00| 2100-12-12 00:00:00|44cd1a6d596b05688...|   true|\n",
      "|0e0d96aa-c680-474...|        11|      W. White|     New York| 1999-01-01 00:00:00| 2100-12-12 00:00:00|f9ea69ce2aa4482b4...|   true|\n",
      "|1b0305db-f628-48a...|        12|  T. Lannister|     New York| 1999-01-01 00:00:00| 2100-12-12 00:00:00|3259a471f9816d7c3...|   true|\n",
      "|11945efe-27c2-46c...|        13|     M. Rosske|       London| 1999-01-01 00:00:00| 2100-12-12 00:00:00|c99e12e650c2aebc8...|   true|\n",
      "|47735880-7086-418...|     10015|         Frits|       London| 1999-01-01 00:00:00| 2100-12-12 00:00:00|a9986535dd7259e4c...|   true|\n",
      "|f73e89e8-e0fb-4a4...|     10016|          Baby|       London| 1999-01-01 00:00:00| 2100-12-12 00:00:00|3791c67a76ab1b258...|   true|\n",
      "|306f29e6-65dd-47d...|     10017|      Boomerke|        Paris| 1999-01-01 00:00:00| 2100-12-12 00:00:00|03900773d45edec5e...|   true|\n",
      "|e6285f3a-e1bc-464...|     10018|        Boomer|       London| 1999-01-01 00:00:00| 2100-12-12 00:00:00|41f9e91bd29384e7a...|   true|\n",
      "+--------------------+----------+--------------+-------------+--------------------+--------------------+--------------------+-------+\n",
      "\n"
     ]
    }
   ],
   "source": [
    "\n",
    "#DEBUG CODE TO SHOW CONTENT OF UPSERTS\n",
    "spark.sql(\"select * from upserts\").show()"
   ],
   "metadata": {
    "collapsed": false,
    "ExecuteTime": {
     "start_time": "2023-09-20T13:16:11.462636Z",
     "end_time": "2023-09-20T13:16:13.801576Z"
    }
   }
  },
  {
   "cell_type": "markdown",
   "source": [
    "\n",
    "#### PERFORM MERGE DIMSALESREP AND UPSERTS\n",
    "merge looks for a matching dwh.salesRepID (in the dimension) for mergeKey\n",
    "   - when a match is found (the dimension table contains a row where its salesRepId corresponds with one of the mergekeys)  -> perform update of row to close the period and set current to \"false\"\n",
    "   - when no match is found (there is no salesRepID in the dimension because the mergeKey is null) -> perform an insert with the data from the updserts table (from the source). The scd-start is filled with the run_timestamp)"
   ],
   "metadata": {
    "collapsed": false
   }
  },
  {
   "cell_type": "code",
   "execution_count": 119,
   "outputs": [
    {
     "data": {
      "text/plain": "DataFrame[num_affected_rows: bigint, num_updated_rows: bigint, num_deleted_rows: bigint, num_inserted_rows: bigint]"
     },
     "execution_count": 119,
     "metadata": {},
     "output_type": "execute_result"
    },
    {
     "name": "stdout",
     "output_type": "stream",
     "text": [
      "+--------------------+----------+--------------+-------------+--------------------+--------------------+--------------------+-------+\n",
      "|          salesRepSK|salesRepID|          name|       office|           scd_start|             scd_end|                 md5|current|\n",
      "+--------------------+----------+--------------+-------------+--------------------+--------------------+--------------------+-------+\n",
      "|e1403167-d6bc-4e1...|         1|       Z. Jane|       Berlin| 1999-01-01 00:00:00|2023-09-20 11:37:...|00b409cd29c569266...|  false|\n",
      "|20c5b991-3e36-4a3...|         1|       Z. Jane|       London|2023-09-20 11:37:...| 2100-12-12 00:00:00|d5fbd19b14904dc4d...|   true|\n",
      "|4b7542d1-f37c-497...|         2|P. Chapmanneke|       Berlin| 1999-01-01 00:00:00| 2100-12-12 00:00:00|ff8eb928f1004c797...|   true|\n",
      "|4aebfcb7-48c1-467...|         3|      T. Crane|     New York| 1999-01-01 00:00:00| 2100-12-12 00:00:00|6c062f95defda9dc3...|   true|\n",
      "|1605101a-71cf-4bd...|         4|     R. Geller|        Paris| 1999-01-01 00:00:00| 2100-12-12 00:00:00|6f34bd2f09f010ec1...|   true|\n",
      "|392eef95-7448-481...|         5|       J.Mosby|       Berlin| 1999-01-01 00:00:00| 2100-12-12 00:00:00|fa85515824433037a...|   true|\n",
      "|40945224-e95e-42f...|         6|    B. Simpson|     New York| 1999-01-01 00:00:00| 2100-12-12 00:00:00|0ecb6ba5656492a5f...|   true|\n",
      "|2fa41c1a-4fb7-457...|         7|    B. Stinson|San Fransisco| 1999-01-01 00:00:00| 2100-12-12 00:00:00|e726b2d8dc0cf9a6f...|   true|\n",
      "|7b4e26d0-0ef4-479...|         8| L. Hofstadter|     Brussels| 1999-01-01 00:00:00| 2100-12-12 00:00:00|a2bbe52f8274b0f08...|   true|\n",
      "|10c3e797-2cfb-490...|         9|     S. Cooper|     Brussels| 1999-01-01 00:00:00| 2100-12-12 00:00:00|d85c73c9d03df0002...|   true|\n",
      "|2f86a6f3-a4d6-448...|        10|  F. Underwood|     Brussels| 1999-01-01 00:00:00| 2100-12-12 00:00:00|44cd1a6d596b05688...|   true|\n",
      "|0e0d96aa-c680-474...|        11|      W. White|     New York| 1999-01-01 00:00:00| 2100-12-12 00:00:00|f9ea69ce2aa4482b4...|   true|\n",
      "|1b0305db-f628-48a...|        12|  T. Lannister|     New York| 1999-01-01 00:00:00| 2100-12-12 00:00:00|3259a471f9816d7c3...|   true|\n",
      "|11945efe-27c2-46c...|        13|     M. Rosske|       London| 1999-01-01 00:00:00| 2100-12-12 00:00:00|c99e12e650c2aebc8...|   true|\n",
      "|47735880-7086-418...|     10015|         Frits|       London| 1999-01-01 00:00:00| 2100-12-12 00:00:00|a9986535dd7259e4c...|   true|\n",
      "|f73e89e8-e0fb-4a4...|     10016|          Baby|       London| 1999-01-01 00:00:00| 2100-12-12 00:00:00|3791c67a76ab1b258...|   true|\n",
      "|306f29e6-65dd-47d...|     10017|      Boomerke|        Paris| 1999-01-01 00:00:00| 2100-12-12 00:00:00|03900773d45edec5e...|   true|\n",
      "|e6285f3a-e1bc-464...|     10018|        Boomer|       London| 1999-01-01 00:00:00| 2100-12-12 00:00:00|41f9e91bd29384e7a...|   true|\n",
      "|d1ea5e8c-48b5-4e5...|     10019|         Frits|        Paris|2023-09-20 11:37:...| 2100-12-12 00:00:00|18e0feb4944ac7a30...|   true|\n",
      "+--------------------+----------+--------------+-------------+--------------------+--------------------+--------------------+-------+\n",
      "\n"
     ]
    }
   ],
   "source": [
    "spark.sql(\"MERGE INTO dimSalesRep_current AS target \\\n",
    "          using upserts AS source ON target.salesRepID = source.salesRepID and source.current = false and target.current=true \\\n",
    "          WHEN MATCHED THEN UPDATE SET scd_end = source.scd_end, current = source.current  \\\n",
    "          WHEN NOT MATCHED THEN INSERT (salesRepSK, salesRepId, name, office, scd_start, scd_end, md5, current) values (source.salesRepSK, source.salesRepId, source.name, source.office, source.scd_start, source.scd_end, source.md5, source.current)\")\\\n",
    "\n",
    "#DEBUG CODE TO SHOW CONTENT OF DIMENSION\n",
    "dt_dimSalesRep.toDF().sort(\"salesRepID\", \"scd_start\").show(100)\n"
   ],
   "metadata": {
    "collapsed": false,
    "ExecuteTime": {
     "start_time": "2023-09-20T13:17:21.291860Z",
     "end_time": "2023-09-20T13:17:25.580972Z"
    }
   }
  },
  {
   "cell_type": "markdown",
   "source": [
    "## Delete the spark session"
   ],
   "metadata": {
    "collapsed": false
   }
  },
  {
   "cell_type": "code",
   "execution_count": null,
   "outputs": [],
   "source": [
    "#spark.stop()"
   ],
   "metadata": {
    "collapsed": false
   }
  }
 ],
 "metadata": {
  "kernelspec": {
   "display_name": "Python 3",
   "language": "python",
   "name": "python3"
  },
  "language_info": {
   "codemirror_mode": {
    "name": "ipython",
    "version": 2
   },
   "file_extension": ".py",
   "mimetype": "text/x-python",
   "name": "python",
   "nbconvert_exporter": "python",
   "pygments_lexer": "ipython2",
   "version": "2.7.6"
  }
 },
 "nbformat": 4,
 "nbformat_minor": 0
}
