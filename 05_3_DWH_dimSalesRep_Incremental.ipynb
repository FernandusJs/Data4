{
 "cells": [
  {
   "cell_type": "markdown",
   "source": [
    "# Config stuff"
   ],
   "metadata": {
    "collapsed": false
   }
  },
  {
   "cell_type": "code",
   "execution_count": 1,
   "outputs": [],
   "source": [
    "\n",
    "import ConnectionConfig as cc\n",
    "from delta import DeltaTable\n",
    "from datetime import datetime"
   ],
   "metadata": {
    "collapsed": false,
    "ExecuteTime": {
     "end_time": "2024-09-03T11:15:31.610603200Z",
     "start_time": "2024-09-03T11:15:30.755198800Z"
    }
   }
  },
  {
   "cell_type": "code",
   "execution_count": 2,
   "outputs": [
    {
     "data": {
      "text/plain": "<pyspark.sql.session.SparkSession at 0x1996a7cca10>",
      "text/html": "\n            <div>\n                <p><b>SparkSession - in-memory</b></p>\n                \n        <div>\n            <p><b>SparkContext</b></p>\n\n            <p><a href=\"http://host.docker.internal:4041\">Spark UI</a></p>\n\n            <dl>\n              <dt>Version</dt>\n                <dd><code>v3.5.2</code></dd>\n              <dt>Master</dt>\n                <dd><code>local[*]</code></dd>\n              <dt>AppName</dt>\n                <dd><code>dimSalesIncrementalLoad</code></dd>\n            </dl>\n        </div>\n        \n            </div>\n        "
     },
     "execution_count": 2,
     "metadata": {},
     "output_type": "execute_result"
    }
   ],
   "source": [
    "cc.setupEnvironment()\n",
    "spark = cc.startLocalCluster(\"dimSalesIncrementalLoad\")\n",
    "spark.getActiveSession()"
   ],
   "metadata": {
    "collapsed": false,
    "ExecuteTime": {
     "end_time": "2024-09-03T11:15:58.588538200Z",
     "start_time": "2024-09-03T11:15:33.927613Z"
    }
   }
  },
  {
   "cell_type": "markdown",
   "source": [
    "## Incremental load\n",
    "\n",
    "After the sales Rep dimension is filled for the first time, the logic to update the dimension has to be handled differently. A change of a record in the source system has to be handled as a change in the dimension. The SCD2 logic is used to handle this.\n",
    "\n",
    "The SCD2 implementation requires a more complex transformation to correctly handle changes in the source files. For detailed information consult the comments in the code.\n",
    "### Setting the parameters\n",
    "The timestamp of the job is used to set the scd_end date of the previous record and the scd_start date of the new record."
   ],
   "metadata": {
    "collapsed": false
   }
  },
  {
   "cell_type": "code",
   "execution_count": 3,
   "outputs": [],
   "source": [
    "run_timestamp =datetime.now() #The job runtime is stored in a variable"
   ],
   "metadata": {
    "collapsed": false,
    "ExecuteTime": {
     "end_time": "2024-09-03T11:17:21.698580500Z",
     "start_time": "2024-09-03T11:17:21.680007700Z"
    }
   }
  },
  {
   "cell_type": "markdown",
   "source": [
    "### Read existing dimension"
   ],
   "metadata": {
    "collapsed": false
   }
  },
  {
   "cell_type": "code",
   "execution_count": 5,
   "outputs": [
    {
     "name": "stdout",
     "output_type": "stream",
     "text": [
      "+----------+-------------+-------------+--------------------+--------------------+\n",
      "|salesRepID|         name|       office|          salesRepSK|                 md5|\n",
      "+----------+-------------+-------------+--------------------+--------------------+\n",
      "|         5|     T. Mosby|       Berlin|d3858661-67e5-4fb...|947579dec8084039e...|\n",
      "|         6|   H. Simpson|       Berlin|3ad7fdb8-02a2-467...|d636d1b0685650b34...|\n",
      "|         7|   B. Stinson|San Fransisco|5880490b-03a6-4c3...|e726b2d8dc0cf9a6f...|\n",
      "|         8|L. Hofstadter|     Brussels|b7c5e413-413e-421...|a2bbe52f8274b0f08...|\n",
      "|         9|    S. Cooper|     Brussels|e28d311d-c5d3-412...|d85c73c9d03df0002...|\n",
      "|        10| F. Underwood|     Brussels|76e8eb70-4124-41d...|44cd1a6d596b05688...|\n",
      "|        11|     W. White|     New York|b86a98c1-b1a1-447...|f9ea69ce2aa4482b4...|\n",
      "|        12| T. Lannister|     New York|d8c23730-aa18-44b...|3259a471f9816d7c3...|\n",
      "|        13|      M. Ross|       London|1d1ba85a-a7ea-40c...|d0faf94c1bbe2d4a7...|\n",
      "|         1|      R. Zane|       Berlin|e29017f3-ee76-462...|1f8cbbc272a33dcc1...|\n",
      "|         2|   P. Chapman|       Berlin|e8dfac53-cfdb-436...|14b094c31bf9e4149...|\n",
      "|         3|     F. Crane|     New York|cc52e5ac-765e-457...|0715f05df18a3a794...|\n",
      "|         4|    R. Geller|     New York|e7b68ade-1c92-4e8...|6212c0ce01f144d66...|\n",
      "+----------+-------------+-------------+--------------------+--------------------+\n"
     ]
    }
   ],
   "source": [
    "dt_dimSalesRep = DeltaTable.forPath(spark,\".\\\\spark-warehouse\\\\dimsalesrep\")\n",
    "\n",
    "dt_dimSalesRep.toDF().createOrReplaceTempView(\"dimSalesRep_current\")\n",
    "\n",
    "#DEBUG CODE TO SHOW CONTENT OF DIMENSION\n",
    "spark.sql(\"select salesRepID, name, office, salesRepSK, md5  from dimSalesRep_current \").show()"
   ],
   "metadata": {
    "collapsed": false,
    "ExecuteTime": {
     "end_time": "2024-09-03T11:18:14.976461100Z",
     "start_time": "2024-09-03T11:18:11.737778900Z"
    }
   }
  },
  {
   "cell_type": "markdown",
   "source": [
    "### Read source table"
   ],
   "metadata": {
    "collapsed": false
   }
  },
  {
   "cell_type": "markdown",
   "source": [
    "\n",
    "##### 1 READ SOURCE TABLE\n",
    "Creating dataframe with source table (from operational system). Transformed to the dimension format.\n",
    "The surrogate key is a uuid to be sure it's unique.\n",
    "md5 hash is used to identify changes in the source table.\n",
    "A view is created of the resulting dataframe to make it available for the next step."
   ],
   "metadata": {
    "collapsed": false
   }
  },
  {
   "cell_type": "code",
   "execution_count": 7,
   "outputs": [
    {
     "name": "stdout",
     "output_type": "stream",
     "text": [
      "+--------------------+-----------------+-------------+-------------+--------------------+\n",
      "|   source_salesRepSK|source_salesRepId|  source_name|source_office|          source_md5|\n",
      "+--------------------+-----------------+-------------+-------------+--------------------+\n",
      "|783faf4d-83ca-4c9...|                1|      R. Zane|       Berlin|1f8cbbc272a33dcc1...|\n",
      "|02306d02-6bf3-455...|                2|   P. Chapman|       Berlin|14b094c31bf9e4149...|\n",
      "|8c0d6326-6d5b-443...|                4|    R. Geller|     New York|6212c0ce01f144d66...|\n",
      "|cf00619c-d6f3-402...|                3|     F. Crane|       Berlin|382ec0d8b8cd28ce4...|\n",
      "|5844fbdf-5810-406...|                5|     T. Mosby|       Berlin|947579dec8084039e...|\n",
      "|1e2f0cdc-12bb-4f8...|                6|   H. Simpson|       Berlin|d636d1b0685650b34...|\n",
      "|e56bbe6d-e99b-4a0...|                7|   B. Stinson|San Fransisco|e726b2d8dc0cf9a6f...|\n",
      "|d033b0db-3fa2-49f...|                8|L. Hofstadter|     Brussels|a2bbe52f8274b0f08...|\n",
      "|18743c9c-ade8-482...|                9|    S. Cooper|     Brussels|d85c73c9d03df0002...|\n",
      "|4d4c18ec-2005-419...|               10| F. Underwood|     Brussels|44cd1a6d596b05688...|\n",
      "|ea470718-d64a-4cc...|               11|     W. White|     New York|f9ea69ce2aa4482b4...|\n",
      "|df601306-693b-476...|               12| T. Lannister|     New York|3259a471f9816d7c3...|\n",
      "|5e5c9246-0bd3-47c...|               13|      M. Ross|       London|d0faf94c1bbe2d4a7...|\n",
      "+--------------------+-----------------+-------------+-------------+--------------------+\n"
     ]
    }
   ],
   "source": [
    "cc.set_connection(\"tutorial_op\")\n",
    "\n",
    "#a. Reading from a JDBC source\n",
    "df_operational_sales_rep = spark.read \\\n",
    "    .format(\"jdbc\") \\\n",
    "    .option(\"driver\" , cc.get_Property(\"driver\")) \\\n",
    "    .option(\"url\", cc.create_jdbc()) \\\n",
    "    .option(\"dbtable\", \"salesrep\") \\\n",
    "    .option(\"user\", cc.get_Property(\"username\")) \\\n",
    "    .option(\"password\", cc.get_Property(\"password\")) \\\n",
    "    .option(\"partitionColumn\", \"salesRepID\") \\\n",
    "    .option(\"numPartitions\", 4) \\\n",
    "    .option(\"lowerBound\", 0) \\\n",
    "    .option(\"upperBound\", 20) \\\n",
    "    .load()\n",
    "\n",
    "df_operational_sales_rep.createOrReplaceTempView(\"operational_sales_rep\")\n",
    "\n",
    "#b. Transforming the source to the dimension format\n",
    "df_dim_sales_rep_new = spark.sql( \"select uuid() as source_salesRepSK, \\\n",
    "                                        salesRepId as source_salesRepId, \\\n",
    "                                        name as source_name, \\\n",
    "                                        office as source_office, \\\n",
    "                                        md5(concat( name, office)) as source_md5 \\\n",
    "                                    from operational_sales_rep\")\n",
    "\n",
    "df_dim_sales_rep_new.createOrReplaceTempView(\"dimSalesRep_new\")\n",
    "\n",
    "#DEBUG CODE TO SHOW CONTENT OF SOURCE\n",
    "#df_dim_sales_rep_new.printSchema()\n",
    "#df_dim_sales_rep_new.show()\n",
    "spark.sql(\"select * from dimSalesRep_new\").show()\n",
    "#df_dim_sales_rep.write.format(\"delta\").mode(\"overwrite\").saveAsTable(\"dimSalesRep\")\n"
   ],
   "metadata": {
    "collapsed": false,
    "ExecuteTime": {
     "end_time": "2024-09-03T11:19:15.455457400Z",
     "start_time": "2024-09-03T11:19:12.881702700Z"
    }
   }
  },
  {
   "cell_type": "markdown",
   "source": [
    "\n",
    "##### 2 DETECT CHANGES\n",
    "Dataframe to identify SCD2 changed rows.\n",
    "First a join between SOURCE (operational system) and DIMENSION (dwh) is performed\n",
    "   The md5 hash is used to identify differences.\n",
    "   The list contains:\n",
    "       - updated source-rows (the join finds a rowand the md5 is different)  and\n",
    "       - new source-rows (the leftouter join does not find a row in the dimension (dwh.salesRepId is null)"
   ],
   "metadata": {
    "collapsed": false
   }
  },
  {
   "cell_type": "code",
   "execution_count": 8,
   "outputs": [
    {
     "name": "stdout",
     "output_type": "stream",
     "text": [
      "+--------------------+-----------------+-----------+-------------+--------------------+--------------------+----------+--------+--------+-------------------+-------------------+--------------------+-------+\n",
      "|   source_salesRepSK|source_salesRepId|source_name|source_office|          source_md5|          salesRepSK|salesrepid|    name|  office|          scd_start|            scd_end|                 md5|current|\n",
      "+--------------------+-----------------+-----------+-------------+--------------------+--------------------+----------+--------+--------+-------------------+-------------------+--------------------+-------+\n",
      "|cf00619c-d6f3-402...|                3|   F. Crane|       Berlin|382ec0d8b8cd28ce4...|cc52e5ac-765e-457...|         3|F. Crane|New York|1999-01-01 00:00:00|2100-12-12 00:00:00|0715f05df18a3a794...|   true|\n",
      "+--------------------+-----------------+-----------+-------------+--------------------+--------------------+----------+--------+--------+-------------------+-------------------+--------------------+-------+\n"
     ]
    }
   ],
   "source": [
    "\n",
    "detectedChanges=spark.sql(f\"select * \\\n",
    "                          from dimSalesRep_new source \\\n",
    "                          left outer join dimSalesRep_current dwh on dwh.salesRepID == source.source_salesRepId and dwh.current == true \\\n",
    "                          where dwh.salesRepId is null or dwh.md5 <> source.source_md5\")\n",
    "\n",
    "detectedChanges.createOrReplaceTempView(\"detectedChanges\")\n",
    "\n",
    "#DEBUG CODE TO SHOW CONTENT OF DETECTED CHANGES\n",
    "detectedChanges.show()\n"
   ],
   "metadata": {
    "collapsed": false,
    "ExecuteTime": {
     "end_time": "2024-09-03T11:19:22.749252800Z",
     "start_time": "2024-09-03T11:19:21.006586100Z"
    }
   }
  },
  {
   "cell_type": "markdown",
   "source": [
    "\n",
    "##### 3 TRANSOFRM TO UPSERTS\n",
    "Before union: Every updated and new source-row requires the insertion of a new record in the SCD2 dimension. This new records starts at the runtime of the job and ends at the end of time (2100-12-12). Current is set to true.\n",
    "Updated source-rows also require an update of the existing scd-fields. The scd_end date of the existing record is set to the runtime of the job. Current is set to false\n",
    "\n",
    "In the next step, rows without mergeKey will be inserted in the dimension table and rows with mergekey will be updated in the dimension"
   ],
   "metadata": {
    "collapsed": false
   }
  },
  {
   "cell_type": "code",
   "execution_count": 9,
   "outputs": [],
   "source": [
    "\n",
    "df_upserts = spark.sql(f\"select source_salesRepSK as salesRepSK,\\\n",
    "                                source_salesRepId as salesRepID,\\\n",
    "                                source_name as name,\\\n",
    "                                source_office as office,\\\n",
    "                                to_timestamp('{run_timestamp}') as scd_start, \\\n",
    "                                to_timestamp('2100-12-12','yyyy-MM-dd') as scd_end,\\\n",
    "                                source_md5 as md5,\\\n",
    "                                true as current\\\n",
    "                        from  detectedChanges\\\n",
    "                        union \\\n",
    "                        select  salesRepSK,\\\n",
    "                                salesRepId,\\\n",
    "                                name,\\\n",
    "                                office,\\\n",
    "                                scd_start,\\\n",
    "                                to_timestamp('{run_timestamp}') as scd_end,\\\n",
    "                                md5, \\\n",
    "                                false \\\n",
    "                                from detectedChanges \\\n",
    "                        where current is not null\")\n",
    "\n",
    "df_upserts.createOrReplaceTempView(\"upserts\")"
   ],
   "metadata": {
    "collapsed": false,
    "ExecuteTime": {
     "end_time": "2024-09-03T11:20:20.275004600Z",
     "start_time": "2024-09-03T11:20:20.164808600Z"
    }
   }
  },
  {
   "cell_type": "code",
   "execution_count": 10,
   "outputs": [
    {
     "name": "stdout",
     "output_type": "stream",
     "text": [
      "+--------------------+----------+--------+--------+--------------------+--------------------+--------------------+-------+\n",
      "|          salesRepSK|salesRepID|    name|  office|           scd_start|             scd_end|                 md5|current|\n",
      "+--------------------+----------+--------+--------+--------------------+--------------------+--------------------+-------+\n",
      "|cf00619c-d6f3-402...|         3|F. Crane|  Berlin|2024-09-03 13:17:...| 2100-12-12 00:00:00|382ec0d8b8cd28ce4...|   true|\n",
      "|cc52e5ac-765e-457...|         3|F. Crane|New York| 1999-01-01 00:00:00|2024-09-03 13:17:...|0715f05df18a3a794...|  false|\n",
      "+--------------------+----------+--------+--------+--------------------+--------------------+--------------------+-------+\n"
     ]
    }
   ],
   "source": [
    "\n",
    "#DEBUG CODE TO SHOW CONTENT OF UPSERTS\n",
    "spark.sql(\"select * from upserts\").show()"
   ],
   "metadata": {
    "collapsed": false,
    "ExecuteTime": {
     "end_time": "2024-09-03T11:20:29.679175800Z",
     "start_time": "2024-09-03T11:20:26.018896Z"
    }
   }
  },
  {
   "cell_type": "markdown",
   "source": [
    "\n",
    "#### PERFORM MERGE DIMSALESREP AND UPSERTS\n",
    "merge looks for a matching dwh.salesRepID (in the dimension) for mergeKey\n",
    "   - when a match is found (the dimension table contains a row where its salesRepId corresponds with one of the mergekeys)  -> perform update of row to close the period and set current to \"false\"\n",
    "   - when no match is found (there is no salesRepID in the dimension because the mergeKey is null) -> perform an insert with the data from the updserts table (from the source). The scd-start is filled with the run_timestamp)"
   ],
   "metadata": {
    "collapsed": false
   }
  },
  {
   "cell_type": "code",
   "execution_count": 11,
   "outputs": [
    {
     "data": {
      "text/plain": "DataFrame[num_affected_rows: bigint, num_updated_rows: bigint, num_deleted_rows: bigint, num_inserted_rows: bigint]"
     },
     "execution_count": 11,
     "metadata": {},
     "output_type": "execute_result"
    },
    {
     "name": "stdout",
     "output_type": "stream",
     "text": [
      "+--------------------+----------+-------------+-------------+--------------------+--------------------+--------------------+-------+\n",
      "|          salesRepSK|salesrepid|         name|       office|           scd_start|             scd_end|                 md5|current|\n",
      "+--------------------+----------+-------------+-------------+--------------------+--------------------+--------------------+-------+\n",
      "|e29017f3-ee76-462...|         1|      R. Zane|       Berlin| 1999-01-01 00:00:00| 2100-12-12 00:00:00|1f8cbbc272a33dcc1...|   true|\n",
      "|e8dfac53-cfdb-436...|         2|   P. Chapman|       Berlin| 1999-01-01 00:00:00| 2100-12-12 00:00:00|14b094c31bf9e4149...|   true|\n",
      "|cc52e5ac-765e-457...|         3|     F. Crane|     New York| 1999-01-01 00:00:00|2024-09-03 13:17:...|0715f05df18a3a794...|  false|\n",
      "|cf00619c-d6f3-402...|         3|     F. Crane|       Berlin|2024-09-03 13:17:...| 2100-12-12 00:00:00|382ec0d8b8cd28ce4...|   true|\n",
      "|e7b68ade-1c92-4e8...|         4|    R. Geller|     New York| 1999-01-01 00:00:00| 2100-12-12 00:00:00|6212c0ce01f144d66...|   true|\n",
      "|d3858661-67e5-4fb...|         5|     T. Mosby|       Berlin| 1999-01-01 00:00:00| 2100-12-12 00:00:00|947579dec8084039e...|   true|\n",
      "|3ad7fdb8-02a2-467...|         6|   H. Simpson|       Berlin| 1999-01-01 00:00:00| 2100-12-12 00:00:00|d636d1b0685650b34...|   true|\n",
      "|5880490b-03a6-4c3...|         7|   B. Stinson|San Fransisco| 1999-01-01 00:00:00| 2100-12-12 00:00:00|e726b2d8dc0cf9a6f...|   true|\n",
      "|b7c5e413-413e-421...|         8|L. Hofstadter|     Brussels| 1999-01-01 00:00:00| 2100-12-12 00:00:00|a2bbe52f8274b0f08...|   true|\n",
      "|e28d311d-c5d3-412...|         9|    S. Cooper|     Brussels| 1999-01-01 00:00:00| 2100-12-12 00:00:00|d85c73c9d03df0002...|   true|\n",
      "|76e8eb70-4124-41d...|        10| F. Underwood|     Brussels| 1999-01-01 00:00:00| 2100-12-12 00:00:00|44cd1a6d596b05688...|   true|\n",
      "|b86a98c1-b1a1-447...|        11|     W. White|     New York| 1999-01-01 00:00:00| 2100-12-12 00:00:00|f9ea69ce2aa4482b4...|   true|\n",
      "|d8c23730-aa18-44b...|        12| T. Lannister|     New York| 1999-01-01 00:00:00| 2100-12-12 00:00:00|3259a471f9816d7c3...|   true|\n",
      "|1d1ba85a-a7ea-40c...|        13|      M. Ross|       London| 1999-01-01 00:00:00| 2100-12-12 00:00:00|d0faf94c1bbe2d4a7...|   true|\n",
      "+--------------------+----------+-------------+-------------+--------------------+--------------------+--------------------+-------+\n"
     ]
    }
   ],
   "source": [
    "spark.sql(\"MERGE INTO dimSalesRep_current AS target \\\n",
    "          using upserts AS source ON target.salesRepID = source.salesRepID and source.current = false and target.current=true \\\n",
    "          WHEN MATCHED THEN UPDATE SET scd_end = source.scd_end, current = source.current  \\\n",
    "          WHEN NOT MATCHED THEN INSERT (salesRepSK, salesRepId, name, office, scd_start, scd_end, md5, current) values (source.salesRepSK, source.salesRepId, source.name, source.office, source.scd_start, source.scd_end, source.md5, source.current)\")\\\n",
    "\n",
    "#DEBUG CODE TO SHOW CONTENT OF DIMENSION\n",
    "dt_dimSalesRep.toDF().sort(\"salesRepID\", \"scd_start\").show(100)\n"
   ],
   "metadata": {
    "collapsed": false,
    "ExecuteTime": {
     "end_time": "2024-09-03T11:22:24.236785400Z",
     "start_time": "2024-09-03T11:22:14.362383900Z"
    }
   }
  },
  {
   "cell_type": "markdown",
   "source": [
    "## Delete the spark session"
   ],
   "metadata": {
    "collapsed": false
   }
  },
  {
   "cell_type": "code",
   "execution_count": 12,
   "outputs": [],
   "source": [
    "spark.stop()"
   ],
   "metadata": {
    "collapsed": false,
    "ExecuteTime": {
     "end_time": "2024-09-03T11:22:45.966821400Z",
     "start_time": "2024-09-03T11:22:45.573604100Z"
    }
   }
  },
  {
   "cell_type": "code",
   "outputs": [],
   "source": [],
   "metadata": {
    "collapsed": false
   }
  }
 ],
 "metadata": {
  "kernelspec": {
   "display_name": "Python 3",
   "language": "python",
   "name": "python3"
  },
  "language_info": {
   "codemirror_mode": {
    "name": "ipython",
    "version": 2
   },
   "file_extension": ".py",
   "mimetype": "text/x-python",
   "name": "python",
   "nbconvert_exporter": "python",
   "pygments_lexer": "ipython2",
   "version": "2.7.6"
  }
 },
 "nbformat": 4,
 "nbformat_minor": 0
}
