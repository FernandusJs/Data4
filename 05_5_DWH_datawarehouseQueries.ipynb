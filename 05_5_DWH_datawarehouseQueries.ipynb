{
 "cells": [
  {
   "cell_type": "markdown",
   "source": [
    "### Config stuff"
   ],
   "metadata": {
    "collapsed": false
   }
  },
  {
   "cell_type": "code",
   "execution_count": 1,
   "outputs": [],
   "source": [
    "\n",
    "from pyspark.sql import SparkSession, functions\n",
    "import ConnectionConfig as cc\n",
    "from pyspark.sql.functions import *\n",
    "cc.setupEnvironment()"
   ],
   "metadata": {
    "collapsed": false,
    "ExecuteTime": {
     "end_time": "2024-09-24T10:04:43.430565500Z",
     "start_time": "2024-09-24T10:04:42.834002300Z"
    }
   }
  },
  {
   "cell_type": "code",
   "execution_count": 2,
   "outputs": [],
   "source": [
    "spark = cc.startLocalCluster(\"queryDB\")"
   ],
   "metadata": {
    "collapsed": false,
    "ExecuteTime": {
     "end_time": "2024-09-24T10:05:18.656294800Z",
     "start_time": "2024-09-24T10:04:43.453477Z"
    }
   }
  },
  {
   "cell_type": "markdown",
   "source": [
    "# MAKE TABLES AVAILABLE\n",
    "This notebook is used to query the datawarehouse. Make sure your datawarehouse tables are available to query"
   ],
   "metadata": {
    "collapsed": false
   }
  },
  {
   "cell_type": "code",
   "execution_count": 3,
   "outputs": [],
   "source": [
    "# MAKE DIMENSIONS AVAILABLE AS VIEWS\n",
    "spark.read.format(\"delta\").load(\"spark-warehouse/dimdate\").createOrReplaceTempView(\"dimDate\")\n",
    "spark.read.format(\"delta\").load(\"spark-warehouse/dimsalesrep/\").createOrReplaceTempView(\"dimSalesRep\")\n",
    "spark.read.format(\"delta\").load(\"spark-warehouse/factsales/\").createOrReplaceTempView(\"factSales\")"
   ],
   "metadata": {
    "collapsed": false,
    "ExecuteTime": {
     "end_time": "2024-09-24T10:05:48.219246600Z",
     "start_time": "2024-09-24T10:05:24.330858400Z"
    }
   }
  },
  {
   "cell_type": "code",
   "execution_count": 5,
   "outputs": [
    {
     "name": "stdout",
     "output_type": "stream",
     "text": [
      "+---------+---------------+\n",
      "|DayOfWeek|sum(revenue_mv)|\n",
      "+---------+---------------+\n",
      "|        6|   162008172707|\n",
      "|        2|   154130692053|\n",
      "|        4|   147752834305|\n",
      "|        5|   151068900235|\n",
      "|        7|   182712450777|\n",
      "|        3|   155808767203|\n",
      "|        1|   123479476450|\n",
      "+---------+---------------+\n",
      "+--------+---------------+\n",
      "|  office|sum(revenue_mv)|\n",
      "+--------+---------------+\n",
      "|  Berlin|   767551012914|\n",
      "|New York|   192978679210|\n",
      "|Brussels|   116431601606|\n",
      "+--------+---------------+\n"
     ]
    }
   ],
   "source": [
    "# What is the total revenue per weekday?\n",
    "spark.sql(\"select dd.DayOfWeek, sum(fs.revenue_mv) from factSales fs inner join dimDate dd on dd.date_SK = fs.date_SK group by DayOfWeek\").show()\n",
    "# What is the  revenue for each office?\n",
    "spark.sql(\"select ds.office, sum(fs.revenue_mv) from factSales fs inner join dimSalesrep ds on ds.salesrep_SK = fs.salesrep_sk group by Office\").show()"
   ],
   "metadata": {
    "collapsed": false,
    "ExecuteTime": {
     "end_time": "2024-09-24T10:06:57.921892600Z",
     "start_time": "2024-09-24T10:06:11.556105100Z"
    }
   }
  },
  {
   "cell_type": "code",
   "outputs": [],
   "source": [],
   "metadata": {
    "collapsed": false
   }
  }
 ],
 "metadata": {
  "kernelspec": {
   "display_name": "Python 3",
   "language": "python",
   "name": "python3"
  },
  "language_info": {
   "codemirror_mode": {
    "name": "ipython",
    "version": 2
   },
   "file_extension": ".py",
   "mimetype": "text/x-python",
   "name": "python",
   "nbconvert_exporter": "python",
   "pygments_lexer": "ipython2",
   "version": "2.7.6"
  }
 },
 "nbformat": 4,
 "nbformat_minor": 0
}
