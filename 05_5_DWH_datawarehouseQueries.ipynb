{
 "cells": [
  {
   "cell_type": "markdown",
   "source": [
    "### Config stuff"
   ],
   "metadata": {
    "collapsed": false,
    "pycharm": {
     "name": "#%% md\n"
    }
   }
  },
  {
   "cell_type": "code",
   "execution_count": 1,
   "outputs": [],
   "source": [
    "\n",
    "from pyspark.sql import SparkSession, functions\n",
    "import ConnectionConfig as cc\n",
    "from pyspark.sql.functions import *"
   ],
   "metadata": {
    "collapsed": false,
    "pycharm": {
     "name": "#%%\n"
    }
   }
  },
  {
   "cell_type": "code",
   "execution_count": 2,
   "outputs": [
    {
     "data": {
      "text/plain": "<pyspark.sql.session.SparkSession at 0x1ebac43d820>",
      "text/html": "\n            <div>\n                <p><b>SparkSession - in-memory</b></p>\n                \n        <div>\n            <p><b>SparkContext</b></p>\n\n            <p><a href=\"http://AKDGPORT11191.admin.kdg.be:4040\">Spark UI</a></p>\n\n            <dl>\n              <dt>Version</dt>\n                <dd><code>v3.1.1</code></dd>\n              <dt>Master</dt>\n                <dd><code>local[*]</code></dd>\n              <dt>AppName</dt>\n                <dd><code>FactSales</code></dd>\n            </dl>\n        </div>\n        \n            </div>\n        "
     },
     "execution_count": 2,
     "metadata": {},
     "output_type": "execute_result"
    }
   ],
   "source": [
    "from delta import configure_spark_with_delta_pip\n",
    "builder = SparkSession.builder \\\n",
    "    .appName(\"FactSales\") \\\n",
    "    .config(\"spark.sql.extensions\", \"io.delta.sql.DeltaSparkSessionExtension\") \\\n",
    "    .config(\"spark.sql.catalog.spark_catalog\", \"org.apache.spark.sql.delta.catalog.DeltaCatalog\") \\\n",
    "    .config(\"spark.sql.shuffle.partitions\", \"4\") \\\n",
    "    .config(\"spark.driver.extraClassPath\", \":\".join(cc.jars)) \\\n",
    "    .master(\"local[*]\")\n",
    "builder = configure_spark_with_delta_pip(builder)\n",
    "spark = builder.getOrCreate()\n",
    "builder.getOrCreate()"
   ],
   "metadata": {
    "collapsed": false,
    "pycharm": {
     "name": "#%%\n"
    }
   }
  },
  {
   "cell_type": "code",
   "execution_count": 6,
   "outputs": [
    {
     "name": "stdout",
     "output_type": "stream",
     "text": [
      "+-------------------+\n",
      "|          max(Time)|\n",
      "+-------------------+\n",
      "|2023-12-31 00:00:00|\n",
      "+-------------------+\n",
      "\n"
     ]
    }
   ],
   "source": [
    "from pyspark.sql.functions import *\n",
    "beginDate = '01-01-2009 00:00:00'\n",
    "endDate = '31-12-2023 00:00:00'\n",
    "df_weather_history = spark.sql(f\"select explode(sequence(to_timestamp('{beginDate}', 'dd-MM-yyyy HH:mm:ss'), to_timestamp('{endDate}', 'dd-MM-yyyy HH:mm:ss'), interval 1 hour)) as Time\") \\\n",
    ".withColumn(\"WeatherType\", floor(rand()*4))\n",
    "df_weather_history.createOrReplaceTempView('hist')\n",
    "spark.sql('select max(Time) from hist').show()"
   ],
   "metadata": {
    "collapsed": false,
    "pycharm": {
     "name": "#%%\n"
    }
   }
  },
  {
   "cell_type": "code",
   "execution_count": 8,
   "outputs": [
    {
     "name": "stdout",
     "output_type": "stream",
     "text": [
      "+-------------------+\n",
      "|          max(Time)|\n",
      "+-------------------+\n",
      "|2023-12-31 00:00:00|\n",
      "+-------------------+\n",
      "\n"
     ]
    }
   ],
   "source": [
    "df_hist = spark.read.format(\"delta\").table(\"hisweather\")\n",
    "df_hist.createOrReplaceTempView('persHist')\n",
    "spark.sql(\"select max(Time) from persHist\").show()"
   ],
   "metadata": {
    "collapsed": false,
    "pycharm": {
     "name": "#%%\n"
    }
   }
  },
  {
   "cell_type": "markdown",
   "source": [
    "# MAKE TABLES AVAILABLE\n",
    "This notebook is used to query the datawarehouse. Make sure your datawarehouse tables are available to query"
   ],
   "metadata": {
    "collapsed": false,
    "pycharm": {
     "name": "#%% md\n"
    }
   }
  },
  {
   "cell_type": "code",
   "execution_count": 3,
   "outputs": [],
   "source": [
    "# MAKE DIMENSIONS AVAILABLE AS VIEWS\n",
    "spark.read.format(\"delta\").load(\"spark-warehouse/dimdate\").createOrReplaceTempView(\"dimDate\")\n",
    "spark.read.format(\"delta\").load(\"spark-warehouse/dimsalesrep/\").createOrReplaceTempView(\"dimSalesRep\")\n",
    "spark.read.format(\"delta\").load(\"spark-warehouse/factsales/\").createOrReplaceTempView(\"factSales\")"
   ],
   "metadata": {
    "collapsed": false,
    "pycharm": {
     "name": "#%%\n"
    }
   }
  },
  {
   "cell_type": "code",
   "execution_count": 4,
   "outputs": [
    {
     "name": "stdout",
     "output_type": "stream",
     "text": [
      "+---------+---------------+\n",
      "|DayOfWeek|sum(revenue_mv)|\n",
      "+---------+---------------+\n",
      "|        6|   162008172717|\n",
      "|        2|   152123354526|\n",
      "|        5|   151068900235|\n",
      "|        4|   146901029926|\n",
      "|        3|   155808767203|\n",
      "|        7|   183395531045|\n",
      "|        1|   123479476450|\n",
      "+---------+---------------+\n",
      "\n",
      "+--------+---------------+\n",
      "|  office|sum(revenue_mv)|\n",
      "+--------+---------------+\n",
      "| Chicago|    63636097575|\n",
      "|  Berlin|   701738853711|\n",
      "|New York|   309410280816|\n",
      "+--------+---------------+\n",
      "\n"
     ]
    }
   ],
   "source": [
    "# What is the total revenue per weekday?\n",
    "spark.sql(\"select dd.DayOfWeek, sum(fs.revenue_mv) from factSales fs inner join dimDate dd on dd.dateSK = fs.dateSK group by DayOfWeek\").show()\n",
    "# What is the  revenue for each office?\n",
    "spark.sql(\"select ds.office, sum(fs.revenue_mv) from factSales fs inner join dimSalesrep ds on ds.salesrepSK = fs.salesrepsk group by Office\").show()"
   ],
   "metadata": {
    "collapsed": false,
    "pycharm": {
     "name": "#%%\n"
    }
   }
  }
 ],
 "metadata": {
  "kernelspec": {
   "display_name": "Python 3",
   "language": "python",
   "name": "python3"
  },
  "language_info": {
   "codemirror_mode": {
    "name": "ipython",
    "version": 2
   },
   "file_extension": ".py",
   "mimetype": "text/x-python",
   "name": "python",
   "nbconvert_exporter": "python",
   "pygments_lexer": "ipython2",
   "version": "2.7.6"
  }
 },
 "nbformat": 4,
 "nbformat_minor": 0
}