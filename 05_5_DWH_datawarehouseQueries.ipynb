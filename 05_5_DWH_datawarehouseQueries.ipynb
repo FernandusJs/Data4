{
 "cells": [
  {
   "cell_type": "markdown",
   "source": [
    "### Config stuff"
   ],
   "metadata": {
    "collapsed": false
   }
  },
  {
   "cell_type": "code",
   "execution_count": 2,
   "outputs": [],
   "source": [
    "\n",
    "from pyspark.sql import SparkSession, functions\n",
    "import ConnectionConfig as cc\n",
    "from pyspark.sql.functions import *\n",
    "cc.setupEnvironment()"
   ],
   "metadata": {
    "collapsed": false,
    "ExecuteTime": {
     "end_time": "2024-09-03T11:37:55.044437900Z",
     "start_time": "2024-09-03T11:37:55.024778700Z"
    }
   }
  },
  {
   "cell_type": "code",
   "execution_count": 3,
   "outputs": [],
   "source": [
    "spark = cc.startLocalCluster(\"queryDB\")"
   ],
   "metadata": {
    "collapsed": false,
    "ExecuteTime": {
     "end_time": "2024-09-03T11:38:13.001556800Z",
     "start_time": "2024-09-03T11:37:57.720716300Z"
    }
   }
  },
  {
   "cell_type": "markdown",
   "source": [
    "# MAKE TABLES AVAILABLE\n",
    "This notebook is used to query the datawarehouse. Make sure your datawarehouse tables are available to query"
   ],
   "metadata": {
    "collapsed": false
   }
  },
  {
   "cell_type": "code",
   "execution_count": 6,
   "outputs": [],
   "source": [
    "# MAKE DIMENSIONS AVAILABLE AS VIEWS\n",
    "spark.read.format(\"delta\").load(\"spark-warehouse/dimdate\").createOrReplaceTempView(\"dimDate\")\n",
    "spark.read.format(\"delta\").load(\"spark-warehouse/dimsalesrep/\").createOrReplaceTempView(\"dimSalesRep\")\n",
    "spark.read.format(\"delta\").load(\"spark-warehouse/factsales/\").createOrReplaceTempView(\"factSales\")"
   ],
   "metadata": {
    "collapsed": false,
    "ExecuteTime": {
     "end_time": "2024-09-03T11:39:41.234536Z",
     "start_time": "2024-09-03T11:39:37.586846600Z"
    }
   }
  },
  {
   "cell_type": "code",
   "execution_count": 7,
   "outputs": [
    {
     "name": "stdout",
     "output_type": "stream",
     "text": [
      "+---------+---------------+\n",
      "|DayOfWeek|sum(revenue_mv)|\n",
      "+---------+---------------+\n",
      "|        6|   162008172707|\n",
      "|        2|   154130692053|\n",
      "|        4|   147752834305|\n",
      "|        5|   151068900235|\n",
      "|        7|   182712450777|\n",
      "|        3|   155808767203|\n",
      "|        1|   123479476450|\n",
      "+---------+---------------+\n",
      "+--------+---------------+\n",
      "|  office|sum(revenue_mv)|\n",
      "+--------+---------------+\n",
      "|  Berlin|   883982614520|\n",
      "|New York|   192978679210|\n",
      "+--------+---------------+\n"
     ]
    }
   ],
   "source": [
    "# What is the total revenue per weekday?\n",
    "spark.sql(\"select dd.DayOfWeek, sum(fs.revenue_mv) from factSales fs inner join dimDate dd on dd.dateSK = fs.dateSK group by DayOfWeek\").show()\n",
    "# What is the  revenue for each office?\n",
    "spark.sql(\"select ds.office, sum(fs.revenue_mv) from factSales fs inner join dimSalesrep ds on ds.salesrepSK = fs.salesrepsk group by Office\").show()"
   ],
   "metadata": {
    "collapsed": false,
    "ExecuteTime": {
     "end_time": "2024-09-03T11:40:00.572799Z",
     "start_time": "2024-09-03T11:39:43.366632400Z"
    }
   }
  }
 ],
 "metadata": {
  "kernelspec": {
   "display_name": "Python 3",
   "language": "python",
   "name": "python3"
  },
  "language_info": {
   "codemirror_mode": {
    "name": "ipython",
    "version": 2
   },
   "file_extension": ".py",
   "mimetype": "text/x-python",
   "name": "python",
   "nbconvert_exporter": "python",
   "pygments_lexer": "ipython2",
   "version": "2.7.6"
  }
 },
 "nbformat": 4,
 "nbformat_minor": 0
}
