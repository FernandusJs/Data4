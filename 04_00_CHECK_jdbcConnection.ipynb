{
 "cells": [
  {
   "cell_type": "code",
   "metadata": {
    "collapsed": true,
    "ExecuteTime": {
     "end_time": "2025-03-13T14:08:42.181735Z",
     "start_time": "2025-03-13T14:08:42.171067Z"
    }
   },
   "source": [
    "import pyspark\n",
    "from pyspark.sql import SparkSession"
   ],
   "outputs": [],
   "execution_count": 19
  },
  {
   "cell_type": "code",
   "source": [
    "import ConnectionConfig as cc\n",
    "cc.setupEnvironment()"
   ],
   "metadata": {
    "collapsed": false,
    "ExecuteTime": {
     "end_time": "2025-03-13T14:08:43.151183Z",
     "start_time": "2025-03-13T14:08:43.138271Z"
    }
   },
   "outputs": [],
   "execution_count": 20
  },
  {
   "cell_type": "markdown",
   "source": [
    "### Config stuff"
   ],
   "metadata": {
    "collapsed": false
   }
  },
  {
   "cell_type": "markdown",
   "source": [],
   "metadata": {
    "collapsed": false
   }
  },
  {
   "cell_type": "markdown",
   "source": [
    "# Creating the operational database\n",
    "In order to run this demo you have to create a tutorial_op database and run the PostgreSQL_SalesOperational.sql script."
   ],
   "metadata": {
    "collapsed": false
   }
  },
  {
   "cell_type": "markdown",
   "source": [
    "### Connection properties\n",
    "ConnectionConfig.py (cc) is created and imported to simplify the database connection process.\n",
    "Consult the file to get more insights."
   ],
   "metadata": {
    "collapsed": false
   }
  },
  {
   "cell_type": "markdown",
   "source": [
    "### Session setup\n",
    "\"spark.driver.extraClassPath\" is added. This is needed to include the necessary jars when running the sparkJobs."
   ],
   "metadata": {
    "collapsed": false
   }
  },
  {
   "cell_type": "code",
   "source": [
    "from delta import configure_spark_with_delta_pip\n",
    "\n",
    "builder = SparkSession.builder \\\n",
    "    .appName(\"DBConnectionTest\") \\\n",
    "    .config(\"spark.sql.extensions\", \"io.delta.sql.DeltaSparkSessionExtension\") \\\n",
    "    .config(\"spark.sql.catalog.spark_catalog\", \"org.apache.spark.sql.delta.catalog.DeltaCatalog\") \\\n",
    "    .master(\"local[4]\")\n",
    "#This one must be added to be able to query a jdbc source\n",
    "#extra_packages = [\"org.apache.spark:spark-sql-kafka-0-10_2.12:3.1.2\",\"com.microsoft.sqlserver:mssql-jdbc:12.2.0.jre8\"]\n",
    "extra_packages = [\"org.apache.spark:spark-sql-kafka-0-10_2.12:3.1.2\",\"org.postgresql:postgresql:42.7.4\"]\n",
    "\n",
    "builder = configure_spark_with_delta_pip(builder, extra_packages=extra_packages)\n",
    "\n",
    "spark = builder.getOrCreate()\n",
    "builder.getOrCreate()\n",
    "spark.sparkContext.setLogLevel(\"DEBUG\")"
   ],
   "metadata": {
    "collapsed": false,
    "ExecuteTime": {
     "end_time": "2025-03-13T14:08:45.190139Z",
     "start_time": "2025-03-13T14:08:45.170070Z"
    }
   },
   "outputs": [],
   "execution_count": 21
  },
  {
   "cell_type": "markdown",
   "source": [
    "### Reading a JDBC table\n",
    "Read a table from sqlServer connection\n",
    "\n",
    "#### Using the ConnectionConfig (cc) to make things easy\n",
    "cc can make a connection url based on a connection profile in config.ini. To do this, first set the name of the connection.\n",
    "\n",
    "#### Partitioning\n",
    "As Spark is build to work in parallel reading from the database can also be done in parallel. In this case we define 4 partitions. Spark has to know how to split the data for every partition. Therefore you have to provide a partition column and a lower and upperbound. In this case the  on of the 4 queries that Spark will fire looks like \"select * from dbo.sales where Order_ID <= 500 and Order_id > 250\""
   ],
   "metadata": {
    "collapsed": false
   }
  },
  {
   "cell_type": "code",
   "source": [
    "cc.set_connectionProfile(\"tutorial_op\")\n",
    "print(cc.create_jdbc())\n",
    "sales_df = spark.read \\\n",
    "    .format(\"jdbc\") \\\n",
    "    .option(\"driver\" , \"org.postgresql.Driver\") \\\n",
    "    .option(\"url\", cc.create_jdbc()) \\\n",
    "    .option(\"dbtable\", \"sales\") \\\n",
    "    .option(\"user\", cc.get_Property(\"username\")) \\\n",
    "    .option(\"password\", cc.get_Property(\"password\")) \\\n",
    "    .option(\"partitionColumn\", \"Order_ID\") \\\n",
    "    .option(\"numPartitions\", 4) \\\n",
    "    .option(\"lowerBound\", 0) \\\n",
    "    .option(\"upperBound\", 1001) \\\n",
    "    .load()\n",
    "sales_df.show(1000)"
   ],
   "metadata": {
    "collapsed": false,
    "ExecuteTime": {
     "end_time": "2025-03-13T14:10:06.757823Z",
     "start_time": "2025-03-13T14:10:06.571148Z"
    }
   },
   "outputs": [
    {
     "ename": "NoSectionError",
     "evalue": "No section: 'velodb'",
     "output_type": "error",
     "traceback": [
      "\u001B[1;31m---------------------------------------------------------------------------\u001B[0m",
      "\u001B[1;31mNoSectionError\u001B[0m                            Traceback (most recent call last)",
      "Cell \u001B[1;32mIn[23], line 2\u001B[0m\n\u001B[0;32m      1\u001B[0m cc\u001B[38;5;241m.\u001B[39mset_connectionProfile(\u001B[38;5;124m\"\u001B[39m\u001B[38;5;124mvelodb\u001B[39m\u001B[38;5;124m\"\u001B[39m)\n\u001B[1;32m----> 2\u001B[0m \u001B[38;5;28mprint\u001B[39m(\u001B[43mcc\u001B[49m\u001B[38;5;241;43m.\u001B[39;49m\u001B[43mcreate_jdbc\u001B[49m\u001B[43m(\u001B[49m\u001B[43m)\u001B[49m)\n\u001B[0;32m      3\u001B[0m sales_df \u001B[38;5;241m=\u001B[39m spark\u001B[38;5;241m.\u001B[39mread \\\n\u001B[0;32m      4\u001B[0m     \u001B[38;5;241m.\u001B[39mformat(\u001B[38;5;124m\"\u001B[39m\u001B[38;5;124mjdbc\u001B[39m\u001B[38;5;124m\"\u001B[39m) \\\n\u001B[0;32m      5\u001B[0m     \u001B[38;5;241m.\u001B[39moption(\u001B[38;5;124m\"\u001B[39m\u001B[38;5;124mdriver\u001B[39m\u001B[38;5;124m\"\u001B[39m , \u001B[38;5;124m\"\u001B[39m\u001B[38;5;124morg.postgresql.Driver\u001B[39m\u001B[38;5;124m\"\u001B[39m) \\\n\u001B[1;32m   (...)\u001B[0m\n\u001B[0;32m     13\u001B[0m     \u001B[38;5;241m.\u001B[39moption(\u001B[38;5;124m\"\u001B[39m\u001B[38;5;124mupperBound\u001B[39m\u001B[38;5;124m\"\u001B[39m, \u001B[38;5;241m1001\u001B[39m) \\\n\u001B[0;32m     14\u001B[0m     \u001B[38;5;241m.\u001B[39mload()\n\u001B[0;32m     15\u001B[0m sales_df\u001B[38;5;241m.\u001B[39mshow(\u001B[38;5;241m1000\u001B[39m)\n",
      "File \u001B[1;32mC:\\ACS202\\Data4\\sparkdelta\\ConnectionConfig.py:57\u001B[0m, in \u001B[0;36mcreate_jdbc\u001B[1;34m()\u001B[0m\n\u001B[0;32m     56\u001B[0m \u001B[38;5;28;01mdef\u001B[39;00m\u001B[38;5;250m \u001B[39m\u001B[38;5;21mcreate_jdbc\u001B[39m():\n\u001B[1;32m---> 57\u001B[0m     \u001B[38;5;28;01mreturn\u001B[39;00m \u001B[43mget_Property\u001B[49m\u001B[43m(\u001B[49m\u001B[38;5;124;43m\"\u001B[39;49m\u001B[38;5;124;43murl\u001B[39;49m\u001B[38;5;124;43m\"\u001B[39;49m\u001B[43m)\u001B[49m\n",
      "File \u001B[1;32mC:\\ACS202\\Data4\\sparkdelta\\ConnectionConfig.py:67\u001B[0m, in \u001B[0;36mget_Property\u001B[1;34m(propertyName)\u001B[0m\n\u001B[0;32m     66\u001B[0m \u001B[38;5;28;01mdef\u001B[39;00m\u001B[38;5;250m \u001B[39m\u001B[38;5;21mget_Property\u001B[39m(propertyName):\n\u001B[1;32m---> 67\u001B[0m   \u001B[38;5;28;01mreturn\u001B[39;00m \u001B[43mconfig\u001B[49m\u001B[38;5;241;43m.\u001B[39;49m\u001B[43mget\u001B[49m\u001B[43m(\u001B[49m\u001B[43mcn\u001B[49m\u001B[43m,\u001B[49m\u001B[43m \u001B[49m\u001B[43mpropertyName\u001B[49m\u001B[43m)\u001B[49m\n",
      "File \u001B[1;32mC:\\Python311\\Lib\\configparser.py:797\u001B[0m, in \u001B[0;36mRawConfigParser.get\u001B[1;34m(self, section, option, raw, vars, fallback)\u001B[0m\n\u001B[0;32m    782\u001B[0m \u001B[38;5;250m\u001B[39m\u001B[38;5;124;03m\"\"\"Get an option value for a given section.\u001B[39;00m\n\u001B[0;32m    783\u001B[0m \n\u001B[0;32m    784\u001B[0m \u001B[38;5;124;03mIf `vars` is provided, it must be a dictionary. The option is looked up\u001B[39;00m\n\u001B[1;32m   (...)\u001B[0m\n\u001B[0;32m    794\u001B[0m \u001B[38;5;124;03mThe section DEFAULT is special.\u001B[39;00m\n\u001B[0;32m    795\u001B[0m \u001B[38;5;124;03m\"\"\"\u001B[39;00m\n\u001B[0;32m    796\u001B[0m \u001B[38;5;28;01mtry\u001B[39;00m:\n\u001B[1;32m--> 797\u001B[0m     d \u001B[38;5;241m=\u001B[39m \u001B[38;5;28;43mself\u001B[39;49m\u001B[38;5;241;43m.\u001B[39;49m\u001B[43m_unify_values\u001B[49m\u001B[43m(\u001B[49m\u001B[43msection\u001B[49m\u001B[43m,\u001B[49m\u001B[43m \u001B[49m\u001B[38;5;28;43mvars\u001B[39;49m\u001B[43m)\u001B[49m\n\u001B[0;32m    798\u001B[0m \u001B[38;5;28;01mexcept\u001B[39;00m NoSectionError:\n\u001B[0;32m    799\u001B[0m     \u001B[38;5;28;01mif\u001B[39;00m fallback \u001B[38;5;129;01mis\u001B[39;00m _UNSET:\n",
      "File \u001B[1;32mC:\\Python311\\Lib\\configparser.py:1170\u001B[0m, in \u001B[0;36mRawConfigParser._unify_values\u001B[1;34m(self, section, vars)\u001B[0m\n\u001B[0;32m   1168\u001B[0m \u001B[38;5;28;01mexcept\u001B[39;00m \u001B[38;5;167;01mKeyError\u001B[39;00m:\n\u001B[0;32m   1169\u001B[0m     \u001B[38;5;28;01mif\u001B[39;00m section \u001B[38;5;241m!=\u001B[39m \u001B[38;5;28mself\u001B[39m\u001B[38;5;241m.\u001B[39mdefault_section:\n\u001B[1;32m-> 1170\u001B[0m         \u001B[38;5;28;01mraise\u001B[39;00m NoSectionError(section) \u001B[38;5;28;01mfrom\u001B[39;00m\u001B[38;5;250m \u001B[39m\u001B[38;5;28;01mNone\u001B[39;00m\n\u001B[0;32m   1171\u001B[0m \u001B[38;5;66;03m# Update with the entry specific variables\u001B[39;00m\n\u001B[0;32m   1172\u001B[0m vardict \u001B[38;5;241m=\u001B[39m {}\n",
      "\u001B[1;31mNoSectionError\u001B[0m: No section: 'velodb'"
     ]
    }
   ],
   "execution_count": 23
  },
  {
   "cell_type": "code",
   "execution_count": null,
   "outputs": [],
   "source": [
    "spark.stop()"
   ],
   "metadata": {
    "collapsed": false,
    "ExecuteTime": {
     "start_time": "2024-09-10T09:41:39.607390800Z"
    }
   }
  }
 ],
 "metadata": {
  "kernelspec": {
   "display_name": "Python 3",
   "language": "python",
   "name": "python3"
  },
  "language_info": {
   "codemirror_mode": {
    "name": "ipython",
    "version": 2
   },
   "file_extension": ".py",
   "mimetype": "text/x-python",
   "name": "python",
   "nbconvert_exporter": "python",
   "pygments_lexer": "ipython2",
   "version": "2.7.6"
  }
 },
 "nbformat": 4,
 "nbformat_minor": 0
}
