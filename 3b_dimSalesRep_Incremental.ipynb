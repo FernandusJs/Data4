{
 "cells": [
  {
   "cell_type": "markdown",
   "source": [
    "# Config stuff"
   ],
   "metadata": {
    "collapsed": false,
    "pycharm": {
     "name": "#%% md\n"
    }
   }
  },
  {
   "cell_type": "code",
   "execution_count": 1,
   "outputs": [],
   "source": [
    "\n",
    "from pyspark.sql import SparkSession\n",
    "import ConnectionConfig as cc\n",
    "from delta import DeltaTable\n",
    "from pyspark.sql.functions import *\n",
    "from delta import configure_spark_with_delta_pip\n",
    "from datetime import datetime"
   ],
   "metadata": {
    "collapsed": false,
    "pycharm": {
     "name": "#%%\n"
    }
   }
  },
  {
   "cell_type": "markdown",
   "source": [],
   "metadata": {
    "collapsed": false,
    "pycharm": {
     "name": "#%% md\n"
    }
   }
  },
  {
   "cell_type": "code",
   "execution_count": 2,
   "outputs": [
    {
     "data": {
      "text/plain": "<pyspark.sql.session.SparkSession at 0x26c3bd33fd0>",
      "text/html": "\n            <div>\n                <p><b>SparkSession - in-memory</b></p>\n                \n        <div>\n            <p><b>SparkContext</b></p>\n\n            <p><a href=\"http://AKDGPORT11191.admin.kdg.be:4040\">Spark UI</a></p>\n\n            <dl>\n              <dt>Version</dt>\n                <dd><code>v3.1.1</code></dd>\n              <dt>Master</dt>\n                <dd><code>local[*]</code></dd>\n              <dt>AppName</dt>\n                <dd><code>DimDate</code></dd>\n            </dl>\n        </div>\n        \n            </div>\n        "
     },
     "execution_count": 2,
     "metadata": {},
     "output_type": "execute_result"
    }
   ],
   "source": [
    "\n",
    "builder = SparkSession.builder \\\n",
    "    .appName(\"DimDate\") \\\n",
    "    .config(\"spark.sql.extensions\", \"io.delta.sql.DeltaSparkSessionExtension\") \\\n",
    "    .config(\"spark.sql.catalog.spark_catalog\", \"org.apache.spark.sql.delta.catalog.DeltaCatalog\") \\\n",
    "    .config(\"spark.sql.shuffle.partitions\", \"4\") \\\n",
    "    .config(\"spark.driver.extraClassPath\", \":\".join(cc.jars)) \\\n",
    "    .master(\"local[*]\")\n",
    "builder = configure_spark_with_delta_pip(builder)\n",
    "spark = builder.getOrCreate()\n",
    "builder.getOrCreate()"
   ],
   "metadata": {
    "collapsed": false,
    "pycharm": {
     "name": "#%%\n"
    }
   }
  },
  {
   "cell_type": "markdown",
   "source": [
    "## Incremental load\n",
    "\n",
    "The SCD2 implementation requires a more complex tranformation to correctly handle changes in the source files. For detailed information consult the comments in the code."
   ],
   "metadata": {
    "collapsed": false,
    "pycharm": {
     "name": "#%% md\n"
    }
   }
  },
  {
   "cell_type": "markdown",
   "source": [
    "### Read source table"
   ],
   "metadata": {
    "collapsed": false,
    "pycharm": {
     "name": "#%% md\n"
    }
   }
  },
  {
   "cell_type": "markdown",
   "source": [
    "##### 1. READ EXISTING DIMENSION\n",
    "Read the existing deltaTable (as a deltaTable object, not a Dataframe). Make the table available as a View.\n",
    "Get the maximum surrogate key value and the current date to use in futher processing"
   ],
   "metadata": {
    "collapsed": false,
    "pycharm": {
     "name": "#%% md\n"
    }
   }
  },
  {
   "cell_type": "code",
   "execution_count": 3,
   "outputs": [],
   "source": [
    "\n",
    "dimSalesRepDelta = DeltaTable.forPath(spark,\".\\spark-warehouse\\dimsalesrep\")\n",
    "dimSalesRepDelta.toDF().createOrReplaceTempView(\"dimSalesRep\")\n",
    "\n",
    "run_timestamp =datetime.now().strftime(\"%Y-%m-%d %H:%M:%S\") #The job runtime is stored in a variable\n",
    "maxSK = spark.sql(\"select max(salesRepSK) salesRepSK from dimSalesRep\").first()[0] #The current maximum \"surrogate key\" (SK) has to be known because we have to start counting from MAX + 1 for new SK.\n",
    "\n"
   ],
   "metadata": {
    "collapsed": false,
    "pycharm": {
     "name": "#%%\n"
    }
   }
  },
  {
   "cell_type": "markdown",
   "source": [
    "\n",
    "##### 2 READ SOURCE TABLE\n",
    "Creating dataframe with source table (from operational system). Transformed to the dimension format.\n",
    "The surrogate key is the maxSK + the id counter. Otherwise SK will not be unique."
   ],
   "metadata": {
    "collapsed": false,
    "pycharm": {
     "name": "#%% md\n"
    }
   }
  },
  {
   "cell_type": "code",
   "execution_count": 4,
   "outputs": [],
   "source": [
    "cc.set_connection(\"mydb\")\n",
    "\n",
    "sourceSalesReps_df = spark.read \\\n",
    "    .format(\"jdbc\") \\\n",
    "    .option(\"url\", cc.create_jdbc()) \\\n",
    "    .option(\"dbtable\", \"dbo.salesrep\") \\\n",
    "    .option(\"user\", cc.get_Property(\"username\")) \\\n",
    "    .option(\"password\", cc.get_Property(\"password\")) \\\n",
    "    .option(\"partitionColumn\", \"salesRepID\") \\\n",
    "    .option(\"numPartitions\", 4) \\\n",
    "    .option(\"lowerBound\", 0) \\\n",
    "    .option(\"upperBound\", 20) \\\n",
    "    .load() \\\n",
    "    .withColumn(\"salesRepSK\", maxSK + monotonically_increasing_id()) \\\n",
    "    .withColumn(\"scd_start\", lit(run_timestamp).cast(\"timestamp\")) \\\n",
    "    .withColumn(\"scd_end\", lit(\"2100-12-12\").cast(\"timestamp\")) \\\n",
    "    .withColumn(\"md5\", md5(concat( col('name'), col('office')))) \\\n",
    "    .withColumn(\"current\", lit(True))"
   ],
   "metadata": {
    "collapsed": false,
    "pycharm": {
     "name": "#%%\n"
    }
   }
  },
  {
   "cell_type": "markdown",
   "source": [
    "\n",
    "##### 3 DETECT CHANGES\n",
    "Dataframe to identify SCD2 changed rows.\n",
    "First a join between SOURCE and DIMENSION is performed\n",
    "   The md5 hash is used to identify differences.\n",
    "   The list contains:\n",
    "       - updated source-rows (the join finds a row)  and\n",
    "       - new source-rows (the leftouter join does not find a row)"
   ],
   "metadata": {
    "collapsed": false,
    "pycharm": {
     "name": "#%% md\n"
    }
   }
  },
  {
   "cell_type": "code",
   "execution_count": 5,
   "outputs": [
    {
     "name": "stdout",
     "output_type": "stream",
     "text": [
      "+----------+---------+------+-----------+-------------------+-------------------+--------------------+-------+---------+--------+----------+-------------------+-------------------+--------------------+-------+\n",
      "|salesRepID|     name|office| salesRepSK|          scd_start|            scd_end|                 md5|current|     name|  office|salesRepSK|          scd_start|            scd_end|                 md5|current|\n",
      "+----------+---------+------+-----------+-------------------+-------------------+--------------------+-------+---------+--------+----------+-------------------+-------------------+--------------------+-------+\n",
      "|         4|R. Geller| Paris|17179869190|2022-09-26 16:02:55|2100-12-12 00:00:00|6f34bd2f09f010ec1...|   true|R. Geller|New York|         3|1990-01-01 00:00:00|2100-12-12 00:00:00|6212c0ce01f144d66...|   true|\n",
      "|     10015|    Frits|London|42949672963|2022-09-26 16:02:55|2100-12-12 00:00:00|a9986535dd7259e4c...|   true|     null|    null|      null|               null|               null|                null|   null|\n",
      "+----------+---------+------+-----------+-------------------+-------------------+--------------------+-------+---------+--------+----------+-------------------+-------------------+--------------------+-------+\n",
      "\n"
     ]
    }
   ],
   "source": [
    "detectedChanges = sourceSalesReps_df.alias(\"source\") \\\n",
    "    .join(dimSalesRepDelta.toDF().alias(\"dwh\"), \"salesRepID\", \"leftouter\") \\\n",
    "    .filter(\"(dwh.current = true AND source.md5 <> dwh.md5 ) OR dwh.salesRepId is null\")\n",
    "    # Filter filters updated records (md5 check) OR new records (null check)\n",
    "\n",
    "detectedChanges.show()"
   ],
   "metadata": {
    "collapsed": false,
    "pycharm": {
     "name": "#%%\n"
    }
   }
  },
  {
   "cell_type": "markdown",
   "source": [
    "\n",
    "##### 4 CREATE RECORDS TO INSERT AND UPDATE\n",
    "Every changed source-row and new sourced-row requires the insertion of a new record in the dimension.\n",
    "Changed source-rows require an update of the scd-fields.\n",
    "\n",
    "Rows without mergeKey will be inserted in the dimension table. Rows with mergekey will be updated in the dimension"
   ],
   "metadata": {
    "collapsed": false,
    "pycharm": {
     "name": "#%% md\n"
    }
   }
  },
  {
   "cell_type": "code",
   "execution_count": 6,
   "outputs": [
    {
     "name": "stdout",
     "output_type": "stream",
     "text": [
      "+--------+----------+---------+--------+-----------+-------------------+-------------------+--------------------+-------+\n",
      "|mergeKey|salesRepID|     name|  office| salesRepSK|          scd_start|            scd_end|                 md5|current|\n",
      "+--------+----------+---------+--------+-----------+-------------------+-------------------+--------------------+-------+\n",
      "|    null|         4|R. Geller|   Paris|17179869190|2022-09-26 16:02:55|2100-12-12 00:00:00|6f34bd2f09f010ec1...|   true|\n",
      "|    null|     10015|    Frits|  London|42949672963|2022-09-26 16:02:55|2100-12-12 00:00:00|a9986535dd7259e4c...|   true|\n",
      "|       4|         4|R. Geller|New York|          3|1990-01-01 00:00:00|2100-12-12 00:00:00|6212c0ce01f144d66...|   true|\n",
      "+--------+----------+---------+--------+-----------+-------------------+-------------------+--------------------+-------+\n",
      "\n"
     ]
    }
   ],
   "source": [
    "\n",
    "upserts = detectedChanges \\\n",
    "    .selectExpr(\"NULL as mergeKey\", \"source.*\" )\\\n",
    "    .union(detectedChanges.filter(\"dwh.current is not null\").selectExpr(\"salesRepId as mergeKey\",\"salesRepId as salesRepId\", \"dwh.*\"))\n",
    "upserts.show()"
   ],
   "metadata": {
    "collapsed": false,
    "pycharm": {
     "name": "#%%\n"
    }
   }
  },
  {
   "cell_type": "markdown",
   "source": [
    "\n",
    "##### 5 PERFORM MERGE DIMSALESREP AND UPSERTS\n",
    "merge looks for a matching dwh.salesRepID for mergeKey\n",
    "   - when a match is found (the dimension table contains a row where its salesRepId corresponds with one of the mergekeys)  -> perform update of row to close the period and set current to \"false\"\n",
    "   - when no match is found (there is no salesRepID in the dimension because the mergeKey is null) -> perform an insert with the data from the updserts table (from the source). The scd-start is filled with the run_timestamp)"
   ],
   "metadata": {
    "collapsed": false,
    "pycharm": {
     "name": "#%% md\n"
    }
   },
   "outputs": []
  },
  {
   "cell_type": "code",
   "execution_count": 7,
   "outputs": [],
   "source": [
    "\n",
    "dimSalesRepDelta.alias(\"dwh\") \\\n",
    "   .merge(upserts.alias(\"upserts\"),\"dwh.salesRepID = mergeKey\") \\\n",
    "   .whenMatchedUpdate(condition= \"dwh.current = true\", set= {\"current\": \"false\", \"scd_end\":   lit(run_timestamp).cast(\"timestamp\")}) \\\n",
    "   .whenNotMatchedInsert(values =\n",
    "     {\n",
    "     \"salesrepSK\": \"upserts.salesRepSK\",\n",
    "     \"salesRepId\" : \"upserts.salesRepId\",\n",
    "     \"name\" : \"upserts.name\",\n",
    "     \"office\" : \"upserts.office\",\n",
    "     \"current\" : \"true\",\n",
    "     \"scd_end\" : lit(\"2100-12-12\").cast(\"timestamp\"),\n",
    "     \"scd_start\" : lit(run_timestamp).cast(\"timestamp\"),\n",
    "     \"md5\" : \"upserts.md5\"\n",
    "     }\n",
    "   ) \\\n",
    "   .execute()"
   ],
   "metadata": {
    "collapsed": false,
    "pycharm": {
     "name": "#%%\n"
    }
   }
  },
  {
   "cell_type": "code",
   "execution_count": 8,
   "outputs": [
    {
     "data": {
      "text/plain": "DataFrame[summary: string, salesRepID: string, name: string, office: string, salesRepSK: string, md5: string]"
     },
     "execution_count": 8,
     "metadata": {},
     "output_type": "execute_result"
    },
    {
     "name": "stdout",
     "output_type": "stream",
     "text": [
      "+----------+-------------+-------------+-----------+-------------------+-------------------+--------------------+-------+\n",
      "|salesRepID|         name|       office| salesRepSK|          scd_start|            scd_end|                 md5|current|\n",
      "+----------+-------------+-------------+-----------+-------------------+-------------------+--------------------+-------+\n",
      "|         1|      Z. Jane|      Chicago|          0|1990-01-01 00:00:00|2100-12-12 00:00:00|cbf61f481bec12d90...|   true|\n",
      "|         2|   P. Chapman|       Berlin|          1|1990-01-01 00:00:00|2100-12-12 00:00:00|14b094c31bf9e4149...|   true|\n",
      "|         3|     T. Crane|     New York|          2|1990-01-01 00:00:00|2100-12-12 00:00:00|6c062f95defda9dc3...|   true|\n",
      "|         4|    R. Geller|     New York|          3|1990-01-01 00:00:00|2022-09-26 16:02:55|6212c0ce01f144d66...|  false|\n",
      "|         4|    R. Geller|        Paris|17179869190|2022-09-26 16:02:55|2100-12-12 00:00:00|6f34bd2f09f010ec1...|   true|\n",
      "|         5|      J.Mosby|       Berlin| 8589934592|1990-01-01 00:00:00|2100-12-12 00:00:00|fa85515824433037a...|   true|\n",
      "|         6|   B. Simpson|     New York| 8589934593|1990-01-01 00:00:00|2100-12-12 00:00:00|0ecb6ba5656492a5f...|   true|\n",
      "|         7|   B. Stinson|San Fransisco| 8589934594|1990-01-01 00:00:00|2100-12-12 00:00:00|e726b2d8dc0cf9a6f...|   true|\n",
      "|         8|L. Hofstadter|     Brussels| 8589934595|1990-01-01 00:00:00|2100-12-12 00:00:00|a2bbe52f8274b0f08...|   true|\n",
      "|         9|    S. Cooper|     Brussels| 8589934596|1990-01-01 00:00:00|2100-12-12 00:00:00|d85c73c9d03df0002...|   true|\n",
      "|        10| F. Underwood|     Brussels|17179869184|1990-01-01 00:00:00|2100-12-12 00:00:00|44cd1a6d596b05688...|   true|\n",
      "|        11|     W. White|     New York|17179869185|1990-01-01 00:00:00|2100-12-12 00:00:00|f9ea69ce2aa4482b4...|   true|\n",
      "|        12| T. Lannister|     New York|17179869186|1990-01-01 00:00:00|2100-12-12 00:00:00|3259a471f9816d7c3...|   true|\n",
      "|        13|    M. Rosske|       London|17179869187|1990-01-01 00:00:00|2100-12-12 00:00:00|c99e12e650c2aebc8...|   true|\n",
      "|     10015|        Frits|       London|42949672963|2022-09-26 16:02:55|2100-12-12 00:00:00|a9986535dd7259e4c...|   true|\n",
      "+----------+-------------+-------------+-----------+-------------------+-------------------+--------------------+-------+\n",
      "\n"
     ]
    }
   ],
   "source": [
    "\n",
    "dimSalesRepDelta.toDF().describe()\n",
    "dimSalesRepDelta.toDF().sort(\"salesRepID\", \"scd_start\").show(100)\n",
    "# dimSalesRepDelta.upgradeTableProtocol"
   ],
   "metadata": {
    "collapsed": false,
    "pycharm": {
     "name": "#%%\n"
    }
   }
  },
  {
   "cell_type": "code",
   "execution_count": 9,
   "outputs": [],
   "source": [
    "spark.stop()"
   ],
   "metadata": {
    "collapsed": false,
    "pycharm": {
     "name": "#%%\n"
    }
   }
  }
 ],
 "metadata": {
  "kernelspec": {
   "display_name": "Python 3",
   "language": "python",
   "name": "python3"
  },
  "language_info": {
   "codemirror_mode": {
    "name": "ipython",
    "version": 2
   },
   "file_extension": ".py",
   "mimetype": "text/x-python",
   "name": "python",
   "nbconvert_exporter": "python",
   "pygments_lexer": "ipython2",
   "version": "2.7.6"
  }
 },
 "nbformat": 4,
 "nbformat_minor": 0
}